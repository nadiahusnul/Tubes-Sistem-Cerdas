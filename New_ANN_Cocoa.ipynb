{
  "nbformat": 4,
  "nbformat_minor": 0,
  "metadata": {
    "colab": {
      "name": "ANN Cocoa",
      "provenance": [],
      "collapsed_sections": []
    },
    "kernelspec": {
      "name": "python3",
      "display_name": "Python 3"
    },
    "language_info": {
      "name": "python"
    }
  },
  "cells": [
    {
      "cell_type": "markdown",
      "source": [
        "# ANN"
      ],
      "metadata": {
        "id": "7tj-WQ4q0mit"
      }
    },
    {
      "cell_type": "code",
      "execution_count": 1,
      "metadata": {
        "colab": {
          "base_uri": "https://localhost:8080/"
        },
        "id": "cJMHg4-hxWxD",
        "outputId": "03a9b7bc-01dd-4104-b0ae-b199ec4caf24"
      },
      "outputs": [
        {
          "output_type": "stream",
          "name": "stdout",
          "text": [
            "Mounted at /content/drive\n"
          ]
        }
      ],
      "source": [
        "from google.colab import drive\n",
        "drive.mount('/content/drive')"
      ]
    },
    {
      "cell_type": "code",
      "source": [
        "cd /content/drive/My Drive/Tubes AI"
      ],
      "metadata": {
        "colab": {
          "base_uri": "https://localhost:8080/"
        },
        "id": "BJIP-4JdxiEg",
        "outputId": "1ae7b83a-79c0-46bf-a828-81f307489ada"
      },
      "execution_count": 3,
      "outputs": [
        {
          "output_type": "stream",
          "name": "stdout",
          "text": [
            "/content/drive/My Drive/Tubes AI\n"
          ]
        }
      ]
    },
    {
      "cell_type": "code",
      "source": [
        "from keras.models import Sequential\n",
        "from keras.layers.core import Activation\n",
        "from keras.layers.core import Flatten\n",
        "from keras.layers.core import Dense\n",
        "from tensorflow.keras.optimizers import Adam\n",
        "from sklearn.preprocessing import LabelBinarizer\n",
        "from sklearn.model_selection import train_test_split\n",
        "from sklearn.metrics import classification_report\n",
        "from PIL import Image\n",
        "from PIL import ImageFilter\n",
        "from imutils import paths\n",
        "import numpy as np\n",
        "import os"
      ],
      "metadata": {
        "id": "UeEFMfx4xoo5"
      },
      "execution_count": 4,
      "outputs": []
    },
    {
      "cell_type": "code",
      "source": [
        "# grab all image paths in the input dataset directory, then initialize\n",
        "# our list of images and corresponding class labels\n",
        "print(\"[INFO] loading images...\")\n",
        "imagePaths = paths.list_images(\"Cocoa Ripeness Dataset\")\n",
        "data = []\n",
        "labels = []"
      ],
      "metadata": {
        "colab": {
          "base_uri": "https://localhost:8080/"
        },
        "id": "581gQfeNxtZA",
        "outputId": "213fea54-d1c8-487d-a2ae-e5b4f07257e8"
      },
      "execution_count": 9,
      "outputs": [
        {
          "output_type": "stream",
          "name": "stdout",
          "text": [
            "[INFO] loading images...\n"
          ]
        }
      ]
    },
    {
      "cell_type": "code",
      "source": [
        "for imagePath in imagePaths:\n",
        "  image=Image.open(imagePath)\n",
        "  image=image.filter(ImageFilter.SMOOTH)\n",
        "  image = image.filter(ImageFilter.SMOOTH_MORE)\n",
        "  image=np.array(image.resize((64,64))) / 255.0\n",
        "  data.append(image)\n",
        "  label=imagePath.split(os.path.sep)[-2]\n",
        "  labels.append(label)"
      ],
      "metadata": {
        "id": "Fo88bwzgx1RS"
      },
      "execution_count": 10,
      "outputs": []
    },
    {
      "cell_type": "code",
      "source": [
        "print(labels)"
      ],
      "metadata": {
        "colab": {
          "base_uri": "https://localhost:8080/"
        },
        "id": "ROU1PwzCx_qW",
        "outputId": "b749683e-5e47-4945-9813-6c4f74c0056c"
      },
      "execution_count": 11,
      "outputs": [
        {
          "output_type": "stream",
          "name": "stdout",
          "text": [
            "['Mature', 'Mature', 'Mature', 'Mature', 'Mature', 'Mature', 'Mature', 'Mature', 'Mature', 'Mature', 'Mature', 'Mature', 'Mature', 'Mature', 'Mature', 'Mature', 'Mature', 'Mature', 'Mature', 'Mature', 'Mature', 'Mature', 'Mature', 'Mature', 'Mature', 'Mature', 'Mature', 'Mature', 'Mature', 'Mature', 'Mature', 'Mature', 'Mature', 'Mature', 'Mature', 'Mature', 'Mature', 'Mature', 'Mature', 'Mature', 'Mature', 'Mature', 'Mature', 'Mature', 'Mature', 'Mature', 'Mature', 'Mature', 'Mature', 'Mature', 'Mature', 'Mature', 'Mature', 'Mature', 'Mature', 'Mature', 'Mature', 'Mature', 'Mature', 'Mature', 'Mature', 'Overmature', 'Overmature', 'Overmature', 'Overmature', 'Overmature', 'Overmature', 'Overmature', 'Overmature', 'Overmature', 'Overmature', 'Overmature', 'Overmature', 'Overmature', 'Overmature', 'Overmature', 'Overmature', 'Overmature', 'Overmature', 'Overmature', 'Overmature', 'Overmature', 'Overmature', 'Overmature', 'Overmature', 'Overmature', 'Overmature', 'Overmature', 'Overmature', 'Overmature', 'Overmature', 'Overmature', 'Overmature', 'Overmature', 'Overmature', 'Overmature', 'Overmature', 'Overmature', 'Overmature', 'Overmature', 'Overmature', 'Overmature', 'Overmature', 'Overmature', 'Overmature', 'Overmature', 'Overmature', 'Overmature', 'Overmature', 'Overmature', 'Overmature', 'Overmature', 'Overmature', 'Overmature', 'Overmature', 'Overmature', 'Overmature', 'Overmature', 'Overmature', 'Overmature', 'Overmature', 'Overmature', 'Overmature', 'Overmature', 'Overmature', 'Overmature', 'Overmature', 'Overmature', 'Overmature', 'Overmature', 'Overmature', 'Overmature', 'Overmature', 'Overmature', 'Overmature', 'Overmature', 'Overmature', 'Overmature', 'Overmature', 'Overmature', 'Overmature', 'Overmature', 'Overmature', 'Overmature', 'Overmature', 'Overmature', 'Overmature', 'Overmature', 'Overmature', 'Overmature', 'Overmature', 'Overmature', 'Overmature', 'Overmature', 'Overmature', 'Overmature', 'Overmature', 'Overmature', 'Overmature', 'Overmature', 'Overmature', 'Overmature', 'Overmature', 'Overmature', 'Overmature', 'Overmature', 'Overmature', 'Overmature', 'Overmature', 'Overmature', 'Overmature', 'Overmature', 'Overmature', 'Overmature', 'Overmature', 'Overmature', 'Overmature', 'Overmature', 'Overmature', 'Overmature', 'Overmature', 'Immature', 'Immature', 'Immature', 'Immature', 'Immature', 'Immature', 'Immature', 'Immature', 'Immature', 'Immature', 'Immature', 'Immature', 'Immature', 'Immature', 'Immature', 'Immature', 'Immature', 'Immature', 'Immature', 'Immature', 'Immature', 'Immature', 'Immature', 'Immature', 'Immature', 'Immature', 'Immature', 'Immature', 'Immature', 'Immature', 'Immature', 'Immature', 'Immature', 'Immature', 'Immature', 'Immature', 'Immature', 'Immature', 'Immature', 'Immature', 'Immature', 'Immature', 'Immature', 'Immature', 'Immature', 'Immature', 'Immature', 'Immature', 'Immature', 'Immature', 'Immature', 'Immature', 'Immature', 'Immature', 'Immature', 'Immature', 'Immature', 'Immature', 'Immature', 'Immature', 'Immature', 'Immature', 'Immature', 'Immature', 'Immature', 'Immature', 'Immature', 'Immature', 'Immature', 'Immature', 'Immature', 'Immature', 'Immature', 'Immature', 'Immature', 'Immature', 'Immature', 'Immature', 'Immature', 'Immature', 'Immature', 'Immature', 'Immature', 'Immature', 'Immature', 'Immature', 'Immature', 'Immature', 'Immature', 'Immature', 'Immature', 'Immature', 'Immature', 'Immature', 'Immature', 'Immature', 'Immature', 'Immature', 'Immature', 'Immature', 'Immature', 'Immature', 'Immature', 'Immature', 'Immature', 'Immature', 'Immature', 'Immature', 'Immature', 'Immature', 'Immature', 'Immature', 'Immature', 'Immature', 'Immature', 'Immature', 'Immature', 'Immature', 'Immature', 'Immature', 'Immature', 'Immature', 'Immature', 'Immature', 'Immature', 'Immature', 'Immature', 'Immature', 'Immature', 'Immature', 'Immature', 'Immature', 'Immature', 'Immature', 'Immature', 'Immature', 'Immature', 'Immature', 'Immature', 'Immature', 'Immature', 'Immature', 'Immature', 'Immature', 'Immature', 'Immature', 'Immature', 'Immature', 'Immature', 'Immature', 'Immature', 'Immature', 'Immature', 'Immature', 'Immature', 'Immature', 'Immature', 'Immature', 'Immature', 'Immature', 'Immature', 'Immature', 'Immature', 'Immature', 'Immature', 'Immature', 'Immature', 'Immature', 'Immature', 'Immature', 'Immature', 'Immature', 'Immature', 'Immature', 'Immature', 'Immature', 'Immature', 'Immature', 'Immature', 'Immature', 'Immature', 'Immature', 'Immature', 'Immature', 'Immature', 'Immature', 'Immature', 'Immature', 'Immature', 'Immature', 'Immature', 'Immature', 'Immature', 'Immature', 'Immature', 'Immature', 'Immature', 'Immature', 'Immature', 'Immature', 'Immature', 'Immature', 'Immature', 'Immature', 'Immature', 'Immature', 'Immature', 'Immature', 'Immature', 'Immature']\n"
          ]
        }
      ]
    },
    {
      "cell_type": "code",
      "source": [
        "# encode the labels, converting them from strings to integers\n",
        "lb = LabelBinarizer()\n",
        "labels = lb.fit_transform(labels)"
      ],
      "metadata": {
        "id": "imyOwScmyDS9"
      },
      "execution_count": 12,
      "outputs": []
    },
    {
      "cell_type": "code",
      "source": [
        "print(labels)"
      ],
      "metadata": {
        "colab": {
          "base_uri": "https://localhost:8080/"
        },
        "id": "UfxeNBn-yGbB",
        "outputId": "2739eae8-0570-4766-c927-9dfadf3809aa"
      },
      "execution_count": 13,
      "outputs": [
        {
          "output_type": "stream",
          "name": "stdout",
          "text": [
            "[[0 1 0]\n",
            " [0 1 0]\n",
            " [0 1 0]\n",
            " ...\n",
            " [1 0 0]\n",
            " [1 0 0]\n",
            " [1 0 0]]\n"
          ]
        }
      ]
    },
    {
      "cell_type": "code",
      "source": [
        "print(np.array(data).shape)"
      ],
      "metadata": {
        "colab": {
          "base_uri": "https://localhost:8080/"
        },
        "id": "0l-spa97yNVd",
        "outputId": "2899fd7f-36c2-4e38-fbdd-5287991969b9"
      },
      "execution_count": 14,
      "outputs": [
        {
          "output_type": "stream",
          "name": "stdout",
          "text": [
            "(391, 64, 64, 3)\n"
          ]
        }
      ]
    },
    {
      "cell_type": "code",
      "source": [
        "# perform a training and testing split, using 75% of the data for\n",
        "# training and 25% for evaluation\n",
        "(trainX, testX, trainY, testY) = train_test_split(np.array(data),\tnp.array(labels), test_size=0.15)\n",
        "print(trainX.shape)\n",
        "print(testX.shape)"
      ],
      "metadata": {
        "colab": {
          "base_uri": "https://localhost:8080/"
        },
        "id": "kcdn1bUGyQ2B",
        "outputId": "6db2419c-3642-400d-964f-ef0129576431"
      },
      "execution_count": 15,
      "outputs": [
        {
          "output_type": "stream",
          "name": "stdout",
          "text": [
            "(332, 64, 64, 3)\n",
            "(59, 64, 64, 3)\n"
          ]
        }
      ]
    },
    {
      "cell_type": "code",
      "source": [
        "trainX = trainX.reshape(332,3*64*64)\n",
        "testX = testX.reshape(59,3*64*64)"
      ],
      "metadata": {
        "id": "jZvK11g6zG5V"
      },
      "execution_count": 17,
      "outputs": []
    },
    {
      "cell_type": "code",
      "source": [
        "from keras.models import Sequential\n",
        "from keras.layers.core import Flatten\n",
        "from keras.layers.core import Dense, Dropout\n",
        "#from keras.layers import Conv2D, MaxPooling2D\n",
        "\n",
        "model = Sequential(\n",
        "    [\n",
        "     Flatten(input_shape=(64*64*3,)),\n",
        "     Dense(100, activation=\"relu\"),\n",
        "     Dense(100, activation=\"relu\"),\n",
        "     Dense(50, activation=\"relu\"),\n",
        "     Dense(3, activation=\"softmax\"),\n",
        "    ]\n",
        ")"
      ],
      "metadata": {
        "id": "2dSScbEVyUv5"
      },
      "execution_count": 18,
      "outputs": []
    },
    {
      "cell_type": "code",
      "source": [
        "model.summary()"
      ],
      "metadata": {
        "colab": {
          "base_uri": "https://localhost:8080/"
        },
        "id": "kj8IuspfyY-k",
        "outputId": "89267e2d-178e-4c39-ce14-a3e59758a2f7"
      },
      "execution_count": 19,
      "outputs": [
        {
          "output_type": "stream",
          "name": "stdout",
          "text": [
            "Model: \"sequential\"\n",
            "_________________________________________________________________\n",
            " Layer (type)                Output Shape              Param #   \n",
            "=================================================================\n",
            " flatten (Flatten)           (None, 12288)             0         \n",
            "                                                                 \n",
            " dense (Dense)               (None, 100)               1228900   \n",
            "                                                                 \n",
            " dense_1 (Dense)             (None, 100)               10100     \n",
            "                                                                 \n",
            " dense_2 (Dense)             (None, 50)                5050      \n",
            "                                                                 \n",
            " dense_3 (Dense)             (None, 3)                 153       \n",
            "                                                                 \n",
            "=================================================================\n",
            "Total params: 1,244,203\n",
            "Trainable params: 1,244,203\n",
            "Non-trainable params: 0\n",
            "_________________________________________________________________\n"
          ]
        }
      ]
    },
    {
      "cell_type": "code",
      "source": [
        "# train the model using the Adam optimizer\n",
        "print(\"[INFO] training network...\")\n",
        "opt = Adam(lr=1e-3, decay=1e-3)\n",
        "model.compile(loss=\"categorical_crossentropy\", optimizer=opt, metrics=[\"accuracy\"])\n",
        "H = model.fit(trainX, trainY, validation_data=(testX, testY), epochs=100, batch_size=32)"
      ],
      "metadata": {
        "colab": {
          "base_uri": "https://localhost:8080/"
        },
        "id": "hqjVjjhpydu4",
        "outputId": "5c4aee16-c56f-46c1-e7c2-08a7a47b3195"
      },
      "execution_count": 20,
      "outputs": [
        {
          "output_type": "stream",
          "name": "stdout",
          "text": [
            "[INFO] training network...\n",
            "Epoch 1/100\n"
          ]
        },
        {
          "output_type": "stream",
          "name": "stderr",
          "text": [
            "/usr/local/lib/python3.7/dist-packages/keras/optimizer_v2/adam.py:105: UserWarning: The `lr` argument is deprecated, use `learning_rate` instead.\n",
            "  super(Adam, self).__init__(name, **kwargs)\n"
          ]
        },
        {
          "output_type": "stream",
          "name": "stdout",
          "text": [
            "11/11 [==============================] - 1s 55ms/step - loss: 1.2648 - accuracy: 0.7048 - val_loss: 0.5913 - val_accuracy: 0.7458\n",
            "Epoch 2/100\n",
            "11/11 [==============================] - 0s 23ms/step - loss: 0.4590 - accuracy: 0.8404 - val_loss: 0.4818 - val_accuracy: 0.8475\n",
            "Epoch 3/100\n",
            "11/11 [==============================] - 0s 26ms/step - loss: 0.5213 - accuracy: 0.7831 - val_loss: 0.5138 - val_accuracy: 0.8305\n",
            "Epoch 4/100\n",
            "11/11 [==============================] - 0s 24ms/step - loss: 0.4670 - accuracy: 0.8554 - val_loss: 0.5493 - val_accuracy: 0.8136\n",
            "Epoch 5/100\n",
            "11/11 [==============================] - 0s 26ms/step - loss: 0.3900 - accuracy: 0.8614 - val_loss: 0.4272 - val_accuracy: 0.8475\n",
            "Epoch 6/100\n",
            "11/11 [==============================] - 0s 23ms/step - loss: 0.3722 - accuracy: 0.8584 - val_loss: 0.5069 - val_accuracy: 0.8305\n",
            "Epoch 7/100\n",
            "11/11 [==============================] - 0s 26ms/step - loss: 0.3519 - accuracy: 0.8735 - val_loss: 0.4289 - val_accuracy: 0.8644\n",
            "Epoch 8/100\n",
            "11/11 [==============================] - 0s 30ms/step - loss: 0.3215 - accuracy: 0.8705 - val_loss: 0.4107 - val_accuracy: 0.8475\n",
            "Epoch 9/100\n",
            "11/11 [==============================] - 0s 19ms/step - loss: 0.3238 - accuracy: 0.8705 - val_loss: 0.6517 - val_accuracy: 0.7627\n",
            "Epoch 10/100\n",
            "11/11 [==============================] - 0s 34ms/step - loss: 0.3404 - accuracy: 0.8825 - val_loss: 0.4168 - val_accuracy: 0.8305\n",
            "Epoch 11/100\n",
            "11/11 [==============================] - 0s 28ms/step - loss: 0.2511 - accuracy: 0.8976 - val_loss: 0.5764 - val_accuracy: 0.8475\n",
            "Epoch 12/100\n",
            "11/11 [==============================] - 0s 23ms/step - loss: 0.3316 - accuracy: 0.8855 - val_loss: 0.5652 - val_accuracy: 0.7966\n",
            "Epoch 13/100\n",
            "11/11 [==============================] - 0s 25ms/step - loss: 0.2505 - accuracy: 0.8946 - val_loss: 0.3726 - val_accuracy: 0.8644\n",
            "Epoch 14/100\n",
            "11/11 [==============================] - 0s 23ms/step - loss: 0.2032 - accuracy: 0.9217 - val_loss: 0.3636 - val_accuracy: 0.8475\n",
            "Epoch 15/100\n",
            "11/11 [==============================] - 0s 27ms/step - loss: 0.1998 - accuracy: 0.9066 - val_loss: 0.3630 - val_accuracy: 0.8305\n",
            "Epoch 16/100\n",
            "11/11 [==============================] - 0s 25ms/step - loss: 0.1766 - accuracy: 0.9398 - val_loss: 0.4268 - val_accuracy: 0.8305\n",
            "Epoch 17/100\n",
            "11/11 [==============================] - 0s 22ms/step - loss: 0.1604 - accuracy: 0.9337 - val_loss: 0.3534 - val_accuracy: 0.8305\n",
            "Epoch 18/100\n",
            "11/11 [==============================] - 0s 23ms/step - loss: 0.1466 - accuracy: 0.9398 - val_loss: 0.3393 - val_accuracy: 0.8644\n",
            "Epoch 19/100\n",
            "11/11 [==============================] - 0s 22ms/step - loss: 0.1575 - accuracy: 0.9367 - val_loss: 0.3908 - val_accuracy: 0.8475\n",
            "Epoch 20/100\n",
            "11/11 [==============================] - 0s 30ms/step - loss: 0.1622 - accuracy: 0.9458 - val_loss: 0.3308 - val_accuracy: 0.8644\n",
            "Epoch 21/100\n",
            "11/11 [==============================] - 0s 19ms/step - loss: 0.1184 - accuracy: 0.9518 - val_loss: 0.3429 - val_accuracy: 0.8814\n",
            "Epoch 22/100\n",
            "11/11 [==============================] - 0s 24ms/step - loss: 0.1101 - accuracy: 0.9639 - val_loss: 0.4841 - val_accuracy: 0.8475\n",
            "Epoch 23/100\n",
            "11/11 [==============================] - 0s 17ms/step - loss: 0.0978 - accuracy: 0.9699 - val_loss: 0.4096 - val_accuracy: 0.8475\n",
            "Epoch 24/100\n",
            "11/11 [==============================] - 0s 20ms/step - loss: 0.0996 - accuracy: 0.9608 - val_loss: 0.3915 - val_accuracy: 0.8475\n",
            "Epoch 25/100\n",
            "11/11 [==============================] - 0s 20ms/step - loss: 0.1001 - accuracy: 0.9548 - val_loss: 0.4281 - val_accuracy: 0.8136\n",
            "Epoch 26/100\n",
            "11/11 [==============================] - 0s 20ms/step - loss: 0.1077 - accuracy: 0.9669 - val_loss: 0.3739 - val_accuracy: 0.8644\n",
            "Epoch 27/100\n",
            "11/11 [==============================] - 0s 24ms/step - loss: 0.1791 - accuracy: 0.9307 - val_loss: 0.3436 - val_accuracy: 0.8814\n",
            "Epoch 28/100\n",
            "11/11 [==============================] - 0s 24ms/step - loss: 0.1442 - accuracy: 0.9217 - val_loss: 0.4320 - val_accuracy: 0.8305\n",
            "Epoch 29/100\n",
            "11/11 [==============================] - 0s 24ms/step - loss: 0.1137 - accuracy: 0.9518 - val_loss: 0.4283 - val_accuracy: 0.8644\n",
            "Epoch 30/100\n",
            "11/11 [==============================] - 0s 25ms/step - loss: 0.0712 - accuracy: 0.9759 - val_loss: 0.4869 - val_accuracy: 0.8475\n",
            "Epoch 31/100\n",
            "11/11 [==============================] - 0s 24ms/step - loss: 0.0789 - accuracy: 0.9729 - val_loss: 0.4257 - val_accuracy: 0.8644\n",
            "Epoch 32/100\n",
            "11/11 [==============================] - 0s 22ms/step - loss: 0.0684 - accuracy: 0.9729 - val_loss: 0.4171 - val_accuracy: 0.8644\n",
            "Epoch 33/100\n",
            "11/11 [==============================] - 0s 23ms/step - loss: 0.0718 - accuracy: 0.9759 - val_loss: 0.4140 - val_accuracy: 0.8305\n",
            "Epoch 34/100\n",
            "11/11 [==============================] - 0s 23ms/step - loss: 0.0707 - accuracy: 0.9729 - val_loss: 0.3721 - val_accuracy: 0.8814\n",
            "Epoch 35/100\n",
            "11/11 [==============================] - 0s 20ms/step - loss: 0.0652 - accuracy: 0.9699 - val_loss: 0.4063 - val_accuracy: 0.8475\n",
            "Epoch 36/100\n",
            "11/11 [==============================] - 0s 22ms/step - loss: 0.0866 - accuracy: 0.9639 - val_loss: 0.4244 - val_accuracy: 0.8305\n",
            "Epoch 37/100\n",
            "11/11 [==============================] - 0s 19ms/step - loss: 0.0653 - accuracy: 0.9759 - val_loss: 0.4075 - val_accuracy: 0.8305\n",
            "Epoch 38/100\n",
            "11/11 [==============================] - 0s 21ms/step - loss: 0.0382 - accuracy: 0.9940 - val_loss: 0.5166 - val_accuracy: 0.8644\n",
            "Epoch 39/100\n",
            "11/11 [==============================] - 0s 23ms/step - loss: 0.0558 - accuracy: 0.9819 - val_loss: 0.4015 - val_accuracy: 0.8644\n",
            "Epoch 40/100\n",
            "11/11 [==============================] - 0s 23ms/step - loss: 0.0476 - accuracy: 0.9849 - val_loss: 0.3894 - val_accuracy: 0.8814\n",
            "Epoch 41/100\n",
            "11/11 [==============================] - 0s 23ms/step - loss: 0.0501 - accuracy: 0.9880 - val_loss: 0.3875 - val_accuracy: 0.8305\n",
            "Epoch 42/100\n",
            "11/11 [==============================] - 0s 13ms/step - loss: 0.0567 - accuracy: 0.9819 - val_loss: 0.4284 - val_accuracy: 0.8644\n",
            "Epoch 43/100\n",
            "11/11 [==============================] - 0s 13ms/step - loss: 0.0490 - accuracy: 0.9819 - val_loss: 0.3593 - val_accuracy: 0.8814\n",
            "Epoch 44/100\n",
            "11/11 [==============================] - 0s 15ms/step - loss: 0.0404 - accuracy: 0.9849 - val_loss: 0.4931 - val_accuracy: 0.8475\n",
            "Epoch 45/100\n",
            "11/11 [==============================] - 0s 12ms/step - loss: 0.0348 - accuracy: 0.9849 - val_loss: 0.3928 - val_accuracy: 0.8983\n",
            "Epoch 46/100\n",
            "11/11 [==============================] - 0s 13ms/step - loss: 0.0349 - accuracy: 0.9880 - val_loss: 0.4756 - val_accuracy: 0.8644\n",
            "Epoch 47/100\n",
            "11/11 [==============================] - 0s 13ms/step - loss: 0.0290 - accuracy: 0.9970 - val_loss: 0.5400 - val_accuracy: 0.8475\n",
            "Epoch 48/100\n",
            "11/11 [==============================] - 0s 13ms/step - loss: 0.0418 - accuracy: 0.9819 - val_loss: 0.4337 - val_accuracy: 0.8814\n",
            "Epoch 49/100\n",
            "11/11 [==============================] - 0s 13ms/step - loss: 0.0715 - accuracy: 0.9669 - val_loss: 0.4421 - val_accuracy: 0.8644\n",
            "Epoch 50/100\n",
            "11/11 [==============================] - 0s 13ms/step - loss: 0.0214 - accuracy: 0.9940 - val_loss: 0.4523 - val_accuracy: 0.8644\n",
            "Epoch 51/100\n",
            "11/11 [==============================] - 0s 14ms/step - loss: 0.0204 - accuracy: 0.9970 - val_loss: 0.4418 - val_accuracy: 0.8644\n",
            "Epoch 52/100\n",
            "11/11 [==============================] - 0s 14ms/step - loss: 0.0266 - accuracy: 0.9910 - val_loss: 0.4009 - val_accuracy: 0.8305\n",
            "Epoch 53/100\n",
            "11/11 [==============================] - 0s 13ms/step - loss: 0.0575 - accuracy: 0.9759 - val_loss: 0.4569 - val_accuracy: 0.8475\n",
            "Epoch 54/100\n",
            "11/11 [==============================] - 0s 14ms/step - loss: 0.0907 - accuracy: 0.9578 - val_loss: 0.4378 - val_accuracy: 0.8136\n",
            "Epoch 55/100\n",
            "11/11 [==============================] - 0s 14ms/step - loss: 0.0507 - accuracy: 0.9729 - val_loss: 0.4975 - val_accuracy: 0.8644\n",
            "Epoch 56/100\n",
            "11/11 [==============================] - 0s 14ms/step - loss: 0.0561 - accuracy: 0.9789 - val_loss: 0.3655 - val_accuracy: 0.8644\n",
            "Epoch 57/100\n",
            "11/11 [==============================] - 0s 14ms/step - loss: 0.0314 - accuracy: 0.9910 - val_loss: 0.4024 - val_accuracy: 0.9153\n",
            "Epoch 58/100\n",
            "11/11 [==============================] - 0s 14ms/step - loss: 0.0185 - accuracy: 1.0000 - val_loss: 0.4720 - val_accuracy: 0.8305\n",
            "Epoch 59/100\n",
            "11/11 [==============================] - 0s 14ms/step - loss: 0.0188 - accuracy: 0.9970 - val_loss: 0.4832 - val_accuracy: 0.8814\n",
            "Epoch 60/100\n",
            "11/11 [==============================] - 0s 15ms/step - loss: 0.0216 - accuracy: 0.9910 - val_loss: 0.4449 - val_accuracy: 0.8983\n",
            "Epoch 61/100\n",
            "11/11 [==============================] - 0s 13ms/step - loss: 0.0139 - accuracy: 1.0000 - val_loss: 0.5472 - val_accuracy: 0.8814\n",
            "Epoch 62/100\n",
            "11/11 [==============================] - 0s 14ms/step - loss: 0.0125 - accuracy: 0.9970 - val_loss: 0.4789 - val_accuracy: 0.9153\n",
            "Epoch 63/100\n",
            "11/11 [==============================] - 0s 14ms/step - loss: 0.0115 - accuracy: 1.0000 - val_loss: 0.4852 - val_accuracy: 0.8983\n",
            "Epoch 64/100\n",
            "11/11 [==============================] - 0s 14ms/step - loss: 0.0100 - accuracy: 1.0000 - val_loss: 0.4850 - val_accuracy: 0.8814\n",
            "Epoch 65/100\n",
            "11/11 [==============================] - 0s 14ms/step - loss: 0.0301 - accuracy: 0.9880 - val_loss: 0.3668 - val_accuracy: 0.8475\n",
            "Epoch 66/100\n",
            "11/11 [==============================] - 0s 14ms/step - loss: 0.0352 - accuracy: 0.9849 - val_loss: 0.4417 - val_accuracy: 0.8644\n",
            "Epoch 67/100\n",
            "11/11 [==============================] - 0s 14ms/step - loss: 0.0518 - accuracy: 0.9789 - val_loss: 0.4239 - val_accuracy: 0.8983\n",
            "Epoch 68/100\n",
            "11/11 [==============================] - 0s 13ms/step - loss: 0.0554 - accuracy: 0.9729 - val_loss: 0.5607 - val_accuracy: 0.8814\n",
            "Epoch 69/100\n",
            "11/11 [==============================] - 0s 13ms/step - loss: 0.0344 - accuracy: 0.9849 - val_loss: 0.5333 - val_accuracy: 0.8814\n",
            "Epoch 70/100\n",
            "11/11 [==============================] - 0s 13ms/step - loss: 0.0150 - accuracy: 0.9940 - val_loss: 0.3938 - val_accuracy: 0.8475\n",
            "Epoch 71/100\n",
            "11/11 [==============================] - 0s 14ms/step - loss: 0.0124 - accuracy: 1.0000 - val_loss: 0.4787 - val_accuracy: 0.8644\n",
            "Epoch 72/100\n",
            "11/11 [==============================] - 0s 13ms/step - loss: 0.0111 - accuracy: 0.9970 - val_loss: 0.6167 - val_accuracy: 0.8814\n",
            "Epoch 73/100\n",
            "11/11 [==============================] - 0s 14ms/step - loss: 0.0128 - accuracy: 0.9940 - val_loss: 0.4670 - val_accuracy: 0.8305\n",
            "Epoch 74/100\n",
            "11/11 [==============================] - 0s 14ms/step - loss: 0.0072 - accuracy: 1.0000 - val_loss: 0.4950 - val_accuracy: 0.8644\n",
            "Epoch 75/100\n",
            "11/11 [==============================] - 0s 14ms/step - loss: 0.0058 - accuracy: 1.0000 - val_loss: 0.5287 - val_accuracy: 0.8814\n",
            "Epoch 76/100\n",
            "11/11 [==============================] - 0s 13ms/step - loss: 0.0085 - accuracy: 1.0000 - val_loss: 0.5095 - val_accuracy: 0.8814\n",
            "Epoch 77/100\n",
            "11/11 [==============================] - 0s 14ms/step - loss: 0.0054 - accuracy: 1.0000 - val_loss: 0.4828 - val_accuracy: 0.8644\n",
            "Epoch 78/100\n",
            "11/11 [==============================] - 0s 12ms/step - loss: 0.0043 - accuracy: 1.0000 - val_loss: 0.5225 - val_accuracy: 0.8644\n",
            "Epoch 79/100\n",
            "11/11 [==============================] - 0s 14ms/step - loss: 0.0037 - accuracy: 1.0000 - val_loss: 0.5118 - val_accuracy: 0.8644\n",
            "Epoch 80/100\n",
            "11/11 [==============================] - 0s 15ms/step - loss: 0.0037 - accuracy: 1.0000 - val_loss: 0.4879 - val_accuracy: 0.8644\n",
            "Epoch 81/100\n",
            "11/11 [==============================] - 0s 15ms/step - loss: 0.0040 - accuracy: 1.0000 - val_loss: 0.5110 - val_accuracy: 0.8983\n",
            "Epoch 82/100\n",
            "11/11 [==============================] - 0s 14ms/step - loss: 0.0044 - accuracy: 1.0000 - val_loss: 0.4845 - val_accuracy: 0.8644\n",
            "Epoch 83/100\n",
            "11/11 [==============================] - 0s 14ms/step - loss: 0.0038 - accuracy: 1.0000 - val_loss: 0.4746 - val_accuracy: 0.8644\n",
            "Epoch 84/100\n",
            "11/11 [==============================] - 0s 15ms/step - loss: 0.0048 - accuracy: 1.0000 - val_loss: 0.5623 - val_accuracy: 0.8814\n",
            "Epoch 85/100\n",
            "11/11 [==============================] - 0s 13ms/step - loss: 0.0023 - accuracy: 1.0000 - val_loss: 0.5067 - val_accuracy: 0.8644\n",
            "Epoch 86/100\n",
            "11/11 [==============================] - 0s 14ms/step - loss: 0.0026 - accuracy: 1.0000 - val_loss: 0.4958 - val_accuracy: 0.8644\n",
            "Epoch 87/100\n",
            "11/11 [==============================] - 0s 15ms/step - loss: 0.0019 - accuracy: 1.0000 - val_loss: 0.5456 - val_accuracy: 0.8644\n",
            "Epoch 88/100\n",
            "11/11 [==============================] - 0s 13ms/step - loss: 0.0016 - accuracy: 1.0000 - val_loss: 0.5245 - val_accuracy: 0.8644\n",
            "Epoch 89/100\n",
            "11/11 [==============================] - 0s 13ms/step - loss: 0.0014 - accuracy: 1.0000 - val_loss: 0.5335 - val_accuracy: 0.8644\n",
            "Epoch 90/100\n",
            "11/11 [==============================] - 0s 16ms/step - loss: 0.0015 - accuracy: 1.0000 - val_loss: 0.5429 - val_accuracy: 0.8644\n",
            "Epoch 91/100\n",
            "11/11 [==============================] - 0s 14ms/step - loss: 0.0013 - accuracy: 1.0000 - val_loss: 0.5239 - val_accuracy: 0.8644\n",
            "Epoch 92/100\n",
            "11/11 [==============================] - 0s 14ms/step - loss: 0.0016 - accuracy: 1.0000 - val_loss: 0.5516 - val_accuracy: 0.8644\n",
            "Epoch 93/100\n",
            "11/11 [==============================] - 0s 14ms/step - loss: 0.0013 - accuracy: 1.0000 - val_loss: 0.5307 - val_accuracy: 0.8644\n",
            "Epoch 94/100\n",
            "11/11 [==============================] - 0s 14ms/step - loss: 0.0012 - accuracy: 1.0000 - val_loss: 0.5371 - val_accuracy: 0.8644\n",
            "Epoch 95/100\n",
            "11/11 [==============================] - 0s 12ms/step - loss: 0.0011 - accuracy: 1.0000 - val_loss: 0.5381 - val_accuracy: 0.8644\n",
            "Epoch 96/100\n",
            "11/11 [==============================] - 0s 13ms/step - loss: 9.8860e-04 - accuracy: 1.0000 - val_loss: 0.5337 - val_accuracy: 0.8644\n",
            "Epoch 97/100\n",
            "11/11 [==============================] - 0s 13ms/step - loss: 0.0011 - accuracy: 1.0000 - val_loss: 0.5599 - val_accuracy: 0.8644\n",
            "Epoch 98/100\n",
            "11/11 [==============================] - 0s 13ms/step - loss: 0.0012 - accuracy: 1.0000 - val_loss: 0.5377 - val_accuracy: 0.8644\n",
            "Epoch 99/100\n",
            "11/11 [==============================] - 0s 13ms/step - loss: 9.7077e-04 - accuracy: 1.0000 - val_loss: 0.5405 - val_accuracy: 0.8644\n",
            "Epoch 100/100\n",
            "11/11 [==============================] - 0s 13ms/step - loss: 9.0577e-04 - accuracy: 1.0000 - val_loss: 0.5443 - val_accuracy: 0.8644\n"
          ]
        }
      ]
    },
    {
      "cell_type": "code",
      "source": [
        "import matplotlib.pyplot as plt\n",
        "\n",
        "print(H.history.keys())\n",
        "# summarize history for accuracy\n",
        "plt.plot(H.history['accuracy'])\n",
        "plt.plot(H.history['val_accuracy'])\n",
        "plt.title('model accuracy')\n",
        "plt.ylabel('accuracy')\n",
        "plt.xlabel('epoch')\n",
        "plt.legend(['train', 'test'], loc='upper left')\n",
        "plt.show()\n",
        "# summarize history for loss\n",
        "plt.plot(H.history['loss'])\n",
        "plt.plot(H.history['val_loss'])\n",
        "plt.title('model loss')\n",
        "plt.ylabel('loss')\n",
        "plt.xlabel('epoch')\n",
        "plt.legend(['train', 'test'], loc='upper left')\n",
        "plt.show()"
      ],
      "metadata": {
        "colab": {
          "base_uri": "https://localhost:8080/",
          "height": 591
        },
        "id": "HTgWaVPqzFP1",
        "outputId": "1cb1eb81-f2ca-4fd1-f342-62ee7548ccd2"
      },
      "execution_count": 21,
      "outputs": [
        {
          "output_type": "stream",
          "name": "stdout",
          "text": [
            "dict_keys(['loss', 'accuracy', 'val_loss', 'val_accuracy'])\n"
          ]
        },
        {
          "output_type": "display_data",
          "data": {
            "image/png": "[encoded data removed]",
            "text/plain": [
              "<Figure size 432x288 with 1 Axes>"
            ]
          },
          "metadata": {
            "needs_background": "light"
          }
        },
        {
          "output_type": "display_data",
          "data": {
            "image/png": "[encoded data removed]",
            "text/plain": [
              "<Figure size 432x288 with 1 Axes>"
            ]
          },
          "metadata": {
            "needs_background": "light"
          }
        }
      ]
    },
    {
      "cell_type": "code",
      "source": [
        "# evaluate the network\n",
        "print(\"[INFO] evaluating network...\")\n",
        "predictions = model.predict(testX, batch_size=32)\n",
        "print(classification_report(testY.argmax(axis=1),predictions.argmax(axis=1), target_names=lb.classes_))"
      ],
      "metadata": {
        "colab": {
          "base_uri": "https://localhost:8080/"
        },
        "id": "GdtURXqfz5CU",
        "outputId": "6a6a2581-e67e-4cda-e018-259ef685f4e2"
      },
      "execution_count": 22,
      "outputs": [
        {
          "output_type": "stream",
          "name": "stdout",
          "text": [
            "[INFO] evaluating network...\n",
            "              precision    recall  f1-score   support\n",
            "\n",
            "    Immature       0.88      1.00      0.94        29\n",
            "      Mature       0.71      0.50      0.59        10\n",
            "  Overmature       0.89      0.85      0.87        20\n",
            "\n",
            "    accuracy                           0.86        59\n",
            "   macro avg       0.83      0.78      0.80        59\n",
            "weighted avg       0.86      0.86      0.86        59\n",
            "\n"
          ]
        }
      ]
    },
    {
      "cell_type": "code",
      "source": [
        "import cv2\n",
        "import matplotlib.pyplot as plt\n",
        "\n",
        "gambar = 'Salinan S5.jpg'\n",
        "image = cv2.imread(gambar)\n",
        "plt.imshow(image)\n",
        "plt.show()"
      ],
      "metadata": {
        "colab": {
          "base_uri": "https://localhost:8080/",
          "height": 665
        },
        "id": "_9fzW9gMvCjh",
        "outputId": "c40b78f4-669a-437c-9401-25bc40f8f72d"
      },
      "execution_count": 23,
      "outputs": [
        {
          "output_type": "error",
          "ename": "TypeError",
          "evalue": "ignored",
          "traceback": [
            "\u001b[0;31m---------------------------------------------------------------------------\u001b[0m",
            "\u001b[0;31mTypeError\u001b[0m                                 Traceback (most recent call last)",
            "\u001b[0;32m<ipython-input-23-e4854ca6d9f1>\u001b[0m in \u001b[0;36m<module>\u001b[0;34m()\u001b[0m\n\u001b[1;32m      4\u001b[0m \u001b[0mgambar\u001b[0m \u001b[0;34m=\u001b[0m \u001b[0;34m'Salinan S5.jpg'\u001b[0m\u001b[0;34m\u001b[0m\u001b[0;34m\u001b[0m\u001b[0m\n\u001b[1;32m      5\u001b[0m \u001b[0mimage\u001b[0m \u001b[0;34m=\u001b[0m \u001b[0mcv2\u001b[0m\u001b[0;34m.\u001b[0m\u001b[0mimread\u001b[0m\u001b[0;34m(\u001b[0m\u001b[0mgambar\u001b[0m\u001b[0;34m)\u001b[0m\u001b[0;34m\u001b[0m\u001b[0;34m\u001b[0m\u001b[0m\n\u001b[0;32m----> 6\u001b[0;31m \u001b[0mplt\u001b[0m\u001b[0;34m.\u001b[0m\u001b[0mimshow\u001b[0m\u001b[0;34m(\u001b[0m\u001b[0mimage\u001b[0m\u001b[0;34m)\u001b[0m\u001b[0;34m\u001b[0m\u001b[0;34m\u001b[0m\u001b[0m\n\u001b[0m\u001b[1;32m      7\u001b[0m \u001b[0mplt\u001b[0m\u001b[0;34m.\u001b[0m\u001b[0mshow\u001b[0m\u001b[0;34m(\u001b[0m\u001b[0;34m)\u001b[0m\u001b[0;34m\u001b[0m\u001b[0;34m\u001b[0m\u001b[0m\n",
            "\u001b[0;32m/usr/local/lib/python3.7/dist-packages/matplotlib/pyplot.py\u001b[0m in \u001b[0;36mimshow\u001b[0;34m(X, cmap, norm, aspect, interpolation, alpha, vmin, vmax, origin, extent, shape, filternorm, filterrad, imlim, resample, url, data, **kwargs)\u001b[0m\n\u001b[1;32m   2649\u001b[0m         \u001b[0mfilternorm\u001b[0m\u001b[0;34m=\u001b[0m\u001b[0mfilternorm\u001b[0m\u001b[0;34m,\u001b[0m \u001b[0mfilterrad\u001b[0m\u001b[0;34m=\u001b[0m\u001b[0mfilterrad\u001b[0m\u001b[0;34m,\u001b[0m \u001b[0mimlim\u001b[0m\u001b[0;34m=\u001b[0m\u001b[0mimlim\u001b[0m\u001b[0;34m,\u001b[0m\u001b[0;34m\u001b[0m\u001b[0;34m\u001b[0m\u001b[0m\n\u001b[1;32m   2650\u001b[0m         resample=resample, url=url, **({\"data\": data} if data is not\n\u001b[0;32m-> 2651\u001b[0;31m         None else {}), **kwargs)\n\u001b[0m\u001b[1;32m   2652\u001b[0m     \u001b[0msci\u001b[0m\u001b[0;34m(\u001b[0m\u001b[0m__ret\u001b[0m\u001b[0;34m)\u001b[0m\u001b[0;34m\u001b[0m\u001b[0;34m\u001b[0m\u001b[0m\n\u001b[1;32m   2653\u001b[0m     \u001b[0;32mreturn\u001b[0m \u001b[0m__ret\u001b[0m\u001b[0;34m\u001b[0m\u001b[0;34m\u001b[0m\u001b[0m\n",
            "\u001b[0;32m/usr/local/lib/python3.7/dist-packages/matplotlib/__init__.py\u001b[0m in \u001b[0;36minner\u001b[0;34m(ax, data, *args, **kwargs)\u001b[0m\n\u001b[1;32m   1563\u001b[0m     \u001b[0;32mdef\u001b[0m \u001b[0minner\u001b[0m\u001b[0;34m(\u001b[0m\u001b[0max\u001b[0m\u001b[0;34m,\u001b[0m \u001b[0;34m*\u001b[0m\u001b[0margs\u001b[0m\u001b[0;34m,\u001b[0m \u001b[0mdata\u001b[0m\u001b[0;34m=\u001b[0m\u001b[0;32mNone\u001b[0m\u001b[0;34m,\u001b[0m \u001b[0;34m**\u001b[0m\u001b[0mkwargs\u001b[0m\u001b[0;34m)\u001b[0m\u001b[0;34m:\u001b[0m\u001b[0;34m\u001b[0m\u001b[0;34m\u001b[0m\u001b[0m\n\u001b[1;32m   1564\u001b[0m         \u001b[0;32mif\u001b[0m \u001b[0mdata\u001b[0m \u001b[0;32mis\u001b[0m \u001b[0;32mNone\u001b[0m\u001b[0;34m:\u001b[0m\u001b[0;34m\u001b[0m\u001b[0;34m\u001b[0m\u001b[0m\n\u001b[0;32m-> 1565\u001b[0;31m             \u001b[0;32mreturn\u001b[0m \u001b[0mfunc\u001b[0m\u001b[0;34m(\u001b[0m\u001b[0max\u001b[0m\u001b[0;34m,\u001b[0m \u001b[0;34m*\u001b[0m\u001b[0mmap\u001b[0m\u001b[0;34m(\u001b[0m\u001b[0msanitize_sequence\u001b[0m\u001b[0;34m,\u001b[0m \u001b[0margs\u001b[0m\u001b[0;34m)\u001b[0m\u001b[0;34m,\u001b[0m \u001b[0;34m**\u001b[0m\u001b[0mkwargs\u001b[0m\u001b[0;34m)\u001b[0m\u001b[0;34m\u001b[0m\u001b[0;34m\u001b[0m\u001b[0m\n\u001b[0m\u001b[1;32m   1566\u001b[0m \u001b[0;34m\u001b[0m\u001b[0m\n\u001b[1;32m   1567\u001b[0m         \u001b[0mbound\u001b[0m \u001b[0;34m=\u001b[0m \u001b[0mnew_sig\u001b[0m\u001b[0;34m.\u001b[0m\u001b[0mbind\u001b[0m\u001b[0;34m(\u001b[0m\u001b[0max\u001b[0m\u001b[0;34m,\u001b[0m \u001b[0;34m*\u001b[0m\u001b[0margs\u001b[0m\u001b[0;34m,\u001b[0m \u001b[0;34m**\u001b[0m\u001b[0mkwargs\u001b[0m\u001b[0;34m)\u001b[0m\u001b[0;34m\u001b[0m\u001b[0;34m\u001b[0m\u001b[0m\n",
            "\u001b[0;32m/usr/local/lib/python3.7/dist-packages/matplotlib/cbook/deprecation.py\u001b[0m in \u001b[0;36mwrapper\u001b[0;34m(*args, **kwargs)\u001b[0m\n\u001b[1;32m    356\u001b[0m                 \u001b[0;34mf\"%(removal)s.  If any parameter follows {name!r}, they \"\u001b[0m\u001b[0;34m\u001b[0m\u001b[0;34m\u001b[0m\u001b[0m\n\u001b[1;32m    357\u001b[0m                 f\"should be pass as keyword, not positionally.\")\n\u001b[0;32m--> 358\u001b[0;31m         \u001b[0;32mreturn\u001b[0m \u001b[0mfunc\u001b[0m\u001b[0;34m(\u001b[0m\u001b[0;34m*\u001b[0m\u001b[0margs\u001b[0m\u001b[0;34m,\u001b[0m \u001b[0;34m**\u001b[0m\u001b[0mkwargs\u001b[0m\u001b[0;34m)\u001b[0m\u001b[0;34m\u001b[0m\u001b[0;34m\u001b[0m\u001b[0m\n\u001b[0m\u001b[1;32m    359\u001b[0m \u001b[0;34m\u001b[0m\u001b[0m\n\u001b[1;32m    360\u001b[0m     \u001b[0;32mreturn\u001b[0m \u001b[0mwrapper\u001b[0m\u001b[0;34m\u001b[0m\u001b[0;34m\u001b[0m\u001b[0m\n",
            "\u001b[0;32m/usr/local/lib/python3.7/dist-packages/matplotlib/cbook/deprecation.py\u001b[0m in \u001b[0;36mwrapper\u001b[0;34m(*args, **kwargs)\u001b[0m\n\u001b[1;32m    356\u001b[0m                 \u001b[0;34mf\"%(removal)s.  If any parameter follows {name!r}, they \"\u001b[0m\u001b[0;34m\u001b[0m\u001b[0;34m\u001b[0m\u001b[0m\n\u001b[1;32m    357\u001b[0m                 f\"should be pass as keyword, not positionally.\")\n\u001b[0;32m--> 358\u001b[0;31m         \u001b[0;32mreturn\u001b[0m \u001b[0mfunc\u001b[0m\u001b[0;34m(\u001b[0m\u001b[0;34m*\u001b[0m\u001b[0margs\u001b[0m\u001b[0;34m,\u001b[0m \u001b[0;34m**\u001b[0m\u001b[0mkwargs\u001b[0m\u001b[0;34m)\u001b[0m\u001b[0;34m\u001b[0m\u001b[0;34m\u001b[0m\u001b[0m\n\u001b[0m\u001b[1;32m    359\u001b[0m \u001b[0;34m\u001b[0m\u001b[0m\n\u001b[1;32m    360\u001b[0m     \u001b[0;32mreturn\u001b[0m \u001b[0mwrapper\u001b[0m\u001b[0;34m\u001b[0m\u001b[0;34m\u001b[0m\u001b[0m\n",
            "\u001b[0;32m/usr/local/lib/python3.7/dist-packages/matplotlib/axes/_axes.py\u001b[0m in \u001b[0;36mimshow\u001b[0;34m(self, X, cmap, norm, aspect, interpolation, alpha, vmin, vmax, origin, extent, shape, filternorm, filterrad, imlim, resample, url, **kwargs)\u001b[0m\n\u001b[1;32m   5624\u001b[0m                               resample=resample, **kwargs)\n\u001b[1;32m   5625\u001b[0m \u001b[0;34m\u001b[0m\u001b[0m\n\u001b[0;32m-> 5626\u001b[0;31m         \u001b[0mim\u001b[0m\u001b[0;34m.\u001b[0m\u001b[0mset_data\u001b[0m\u001b[0;34m(\u001b[0m\u001b[0mX\u001b[0m\u001b[0;34m)\u001b[0m\u001b[0;34m\u001b[0m\u001b[0;34m\u001b[0m\u001b[0m\n\u001b[0m\u001b[1;32m   5627\u001b[0m         \u001b[0mim\u001b[0m\u001b[0;34m.\u001b[0m\u001b[0mset_alpha\u001b[0m\u001b[0;34m(\u001b[0m\u001b[0malpha\u001b[0m\u001b[0;34m)\u001b[0m\u001b[0;34m\u001b[0m\u001b[0;34m\u001b[0m\u001b[0m\n\u001b[1;32m   5628\u001b[0m         \u001b[0;32mif\u001b[0m \u001b[0mim\u001b[0m\u001b[0;34m.\u001b[0m\u001b[0mget_clip_path\u001b[0m\u001b[0;34m(\u001b[0m\u001b[0;34m)\u001b[0m \u001b[0;32mis\u001b[0m \u001b[0;32mNone\u001b[0m\u001b[0;34m:\u001b[0m\u001b[0;34m\u001b[0m\u001b[0;34m\u001b[0m\u001b[0m\n",
            "\u001b[0;32m/usr/local/lib/python3.7/dist-packages/matplotlib/image.py\u001b[0m in \u001b[0;36mset_data\u001b[0;34m(self, A)\u001b[0m\n\u001b[1;32m    692\u001b[0m                 not np.can_cast(self._A.dtype, float, \"same_kind\")):\n\u001b[1;32m    693\u001b[0m             raise TypeError(\"Image data of dtype {} cannot be converted to \"\n\u001b[0;32m--> 694\u001b[0;31m                             \"float\".format(self._A.dtype))\n\u001b[0m\u001b[1;32m    695\u001b[0m \u001b[0;34m\u001b[0m\u001b[0m\n\u001b[1;32m    696\u001b[0m         if not (self._A.ndim == 2\n",
            "\u001b[0;31mTypeError\u001b[0m: Image data of dtype object cannot be converted to float"
          ]
        },
        {
          "output_type": "display_data",
          "data": {
            "image/png": "[encoded data removed]",
            "text/plain": [
              "<Figure size 432x288 with 1 Axes>"
            ]
          },
          "metadata": {
            "needs_background": "light"
          }
        }
      ]
    },
    {
      "cell_type": "code",
      "source": [
        "image_test=Image.open(gambar)\n",
        "image_test=np.array(image_test.resize((64,64))) / 255.0\n",
        "image_test.shape"
      ],
      "metadata": {
        "colab": {
          "base_uri": "https://localhost:8080/"
        },
        "id": "E03lXFMcvGEo",
        "outputId": "0db213a2-ceaa-45bd-a74b-38a828ebba58"
      },
      "execution_count": null,
      "outputs": [
        {
          "output_type": "execute_result",
          "data": {
            "text/plain": [
              "(64, 64, 3)"
            ]
          },
          "metadata": {},
          "execution_count": 106
        }
      ]
    },
    {
      "cell_type": "code",
      "source": [
        "image_test=np.expand_dims(image_test, axis=0)\n",
        "image_test.shape"
      ],
      "metadata": {
        "colab": {
          "base_uri": "https://localhost:8080/"
        },
        "id": "3paJaqE0vNhw",
        "outputId": "22712844-d292-4b34-e935-dc0d09c26b36"
      },
      "execution_count": null,
      "outputs": [
        {
          "output_type": "execute_result",
          "data": {
            "text/plain": [
              "(1, 64, 64, 3)"
            ]
          },
          "metadata": {},
          "execution_count": 107
        }
      ]
    },
    {
      "cell_type": "code",
      "source": [
        "image_test = image_test.reshape(1 ,3*64*64)"
      ],
      "metadata": {
        "id": "VxljXQV6FUDD"
      },
      "execution_count": null,
      "outputs": []
    },
    {
      "cell_type": "code",
      "source": [
        "predict = model.predict(image_test)\n",
        "print(predict)"
      ],
      "metadata": {
        "id": "OAtpNS9Vvfi8",
        "colab": {
          "base_uri": "https://localhost:8080/"
        },
        "outputId": "4cf53ff2-7272-4eac-a754-7aa6b44593bd"
      },
      "execution_count": null,
      "outputs": [
        {
          "output_type": "stream",
          "name": "stdout",
          "text": [
            "[[7.9784343e-07 9.0738946e-01 9.2609741e-02]]\n"
          ]
        }
      ]
    },
    {
      "cell_type": "code",
      "source": [
        "print(lb.classes_[predict.argmax(axis=1)])"
      ],
      "metadata": {
        "colab": {
          "base_uri": "https://localhost:8080/"
        },
        "id": "x9TD7oOvv8rm",
        "outputId": "f435f3ee-9d8a-41a1-d6f2-657f489ac096"
      },
      "execution_count": null,
      "outputs": [
        {
          "output_type": "stream",
          "name": "stdout",
          "text": [
            "['Mature']\n"
          ]
        }
      ]
    },
    {
      "cell_type": "markdown",
      "source": [
        "## `ANN Dropout` (Untuk Mengurangi Overfitting)"
      ],
      "metadata": {
        "id": "l_J6opNd7uQm"
      }
    },
    {
      "cell_type": "code",
      "source": [
        "from keras.models import Sequential\n",
        "from keras.layers.core import Flatten\n",
        "from keras.layers.core import Dense, Dropout\n",
        "#from keras.layers import Conv2D, MaxPooling2D\n",
        "\n",
        "model = Sequential(\n",
        "    [\n",
        "     Flatten(input_shape=(64*64*3,)),\n",
        "     Dense(100, activation=\"relu\"),\n",
        "     Dropout(0.3),\n",
        "     Dense(100, activation=\"relu\"),\n",
        "     Dropout(0.3),\n",
        "     Dense(50, activation=\"relu\"),\n",
        "     Dense(3, activation=\"softmax\"),\n",
        "    ]\n",
        ")"
      ],
      "metadata": {
        "id": "uLoDxKfq7y1A"
      },
      "execution_count": 28,
      "outputs": []
    },
    {
      "cell_type": "code",
      "source": [
        "# train the model using the Adam optimizer\n",
        "print(\"[INFO] training network...\")\n",
        "opt = Adam(lr=1e-3, decay=1e-3)\n",
        "model.compile(loss=\"categorical_crossentropy\", optimizer=opt, metrics=[\"accuracy\"])\n",
        "H = model.fit(trainX, trainY, validation_data=(testX, testY), epochs=100, batch_size=32)"
      ],
      "metadata": {
        "colab": {
          "base_uri": "https://localhost:8080/"
        },
        "id": "6v4G5gLW8MfJ",
        "outputId": "1be5cb29-af5b-4db3-d233-3e068fd93b75"
      },
      "execution_count": 29,
      "outputs": [
        {
          "output_type": "stream",
          "name": "stdout",
          "text": [
            "[INFO] training network...\n",
            "Epoch 1/100\n"
          ]
        },
        {
          "output_type": "stream",
          "name": "stderr",
          "text": [
            "/usr/local/lib/python3.7/dist-packages/keras/optimizer_v2/adam.py:105: UserWarning: The `lr` argument is deprecated, use `learning_rate` instead.\n",
            "  super(Adam, self).__init__(name, **kwargs)\n"
          ]
        },
        {
          "output_type": "stream",
          "name": "stdout",
          "text": [
            "11/11 [==============================] - 1s 28ms/step - loss: 1.7386 - accuracy: 0.4819 - val_loss: 0.8122 - val_accuracy: 0.7627\n",
            "Epoch 2/100\n",
            "11/11 [==============================] - 0s 18ms/step - loss: 0.7847 - accuracy: 0.7319 - val_loss: 0.5355 - val_accuracy: 0.8305\n",
            "Epoch 3/100\n",
            "11/11 [==============================] - 0s 24ms/step - loss: 0.6233 - accuracy: 0.7922 - val_loss: 0.4990 - val_accuracy: 0.8136\n",
            "Epoch 4/100\n",
            "11/11 [==============================] - 0s 22ms/step - loss: 0.5692 - accuracy: 0.7861 - val_loss: 0.4844 - val_accuracy: 0.8305\n",
            "Epoch 5/100\n",
            "11/11 [==============================] - 0s 22ms/step - loss: 0.5680 - accuracy: 0.8012 - val_loss: 0.5071 - val_accuracy: 0.8136\n",
            "Epoch 6/100\n",
            "11/11 [==============================] - 0s 26ms/step - loss: 0.4624 - accuracy: 0.8283 - val_loss: 0.4951 - val_accuracy: 0.8475\n",
            "Epoch 7/100\n",
            "11/11 [==============================] - 0s 22ms/step - loss: 0.4651 - accuracy: 0.8373 - val_loss: 0.4705 - val_accuracy: 0.8305\n",
            "Epoch 8/100\n",
            "11/11 [==============================] - 0s 24ms/step - loss: 0.4902 - accuracy: 0.8253 - val_loss: 0.5125 - val_accuracy: 0.8475\n",
            "Epoch 9/100\n",
            "11/11 [==============================] - 0s 22ms/step - loss: 0.5043 - accuracy: 0.8253 - val_loss: 0.4525 - val_accuracy: 0.8475\n",
            "Epoch 10/100\n",
            "11/11 [==============================] - 0s 20ms/step - loss: 0.4608 - accuracy: 0.8434 - val_loss: 0.4970 - val_accuracy: 0.8305\n",
            "Epoch 11/100\n",
            "11/11 [==============================] - 0s 15ms/step - loss: 0.4534 - accuracy: 0.8193 - val_loss: 0.4641 - val_accuracy: 0.8136\n",
            "Epoch 12/100\n",
            "11/11 [==============================] - 0s 14ms/step - loss: 0.4501 - accuracy: 0.8223 - val_loss: 0.4582 - val_accuracy: 0.8305\n",
            "Epoch 13/100\n",
            "11/11 [==============================] - 0s 13ms/step - loss: 0.4379 - accuracy: 0.8283 - val_loss: 0.4452 - val_accuracy: 0.8305\n",
            "Epoch 14/100\n",
            "11/11 [==============================] - 0s 14ms/step - loss: 0.4040 - accuracy: 0.8373 - val_loss: 0.4686 - val_accuracy: 0.8136\n",
            "Epoch 15/100\n",
            "11/11 [==============================] - 0s 14ms/step - loss: 0.4025 - accuracy: 0.8253 - val_loss: 0.4442 - val_accuracy: 0.8136\n",
            "Epoch 16/100\n",
            "11/11 [==============================] - 0s 14ms/step - loss: 0.4166 - accuracy: 0.8434 - val_loss: 0.4760 - val_accuracy: 0.8305\n",
            "Epoch 17/100\n",
            "11/11 [==============================] - 0s 14ms/step - loss: 0.3950 - accuracy: 0.8434 - val_loss: 0.4219 - val_accuracy: 0.8305\n",
            "Epoch 18/100\n",
            "11/11 [==============================] - 0s 15ms/step - loss: 0.3993 - accuracy: 0.8434 - val_loss: 0.4414 - val_accuracy: 0.8136\n",
            "Epoch 19/100\n",
            "11/11 [==============================] - 0s 13ms/step - loss: 0.3757 - accuracy: 0.8343 - val_loss: 0.4439 - val_accuracy: 0.8305\n",
            "Epoch 20/100\n",
            "11/11 [==============================] - 0s 13ms/step - loss: 0.3629 - accuracy: 0.8554 - val_loss: 0.4249 - val_accuracy: 0.8475\n",
            "Epoch 21/100\n",
            "11/11 [==============================] - 0s 14ms/step - loss: 0.3330 - accuracy: 0.8524 - val_loss: 0.4397 - val_accuracy: 0.8305\n",
            "Epoch 22/100\n",
            "11/11 [==============================] - 0s 12ms/step - loss: 0.3555 - accuracy: 0.8554 - val_loss: 0.4077 - val_accuracy: 0.8475\n",
            "Epoch 23/100\n",
            "11/11 [==============================] - 0s 14ms/step - loss: 0.3540 - accuracy: 0.8614 - val_loss: 0.4067 - val_accuracy: 0.8644\n",
            "Epoch 24/100\n",
            "11/11 [==============================] - 0s 13ms/step - loss: 0.3340 - accuracy: 0.8705 - val_loss: 0.4612 - val_accuracy: 0.8305\n",
            "Epoch 25/100\n",
            "11/11 [==============================] - 0s 15ms/step - loss: 0.3170 - accuracy: 0.8614 - val_loss: 0.3947 - val_accuracy: 0.8475\n",
            "Epoch 26/100\n",
            "11/11 [==============================] - 0s 14ms/step - loss: 0.3112 - accuracy: 0.8554 - val_loss: 0.3854 - val_accuracy: 0.8644\n",
            "Epoch 27/100\n",
            "11/11 [==============================] - 0s 15ms/step - loss: 0.3028 - accuracy: 0.8735 - val_loss: 0.4138 - val_accuracy: 0.8475\n",
            "Epoch 28/100\n",
            "11/11 [==============================] - 0s 14ms/step - loss: 0.3250 - accuracy: 0.8524 - val_loss: 0.3924 - val_accuracy: 0.8644\n",
            "Epoch 29/100\n",
            "11/11 [==============================] - 0s 13ms/step - loss: 0.3337 - accuracy: 0.8705 - val_loss: 0.4486 - val_accuracy: 0.8136\n",
            "Epoch 30/100\n",
            "11/11 [==============================] - 0s 14ms/step - loss: 0.2956 - accuracy: 0.8976 - val_loss: 0.3862 - val_accuracy: 0.8475\n",
            "Epoch 31/100\n",
            "11/11 [==============================] - 0s 15ms/step - loss: 0.2853 - accuracy: 0.8675 - val_loss: 0.3927 - val_accuracy: 0.8305\n",
            "Epoch 32/100\n",
            "11/11 [==============================] - 0s 13ms/step - loss: 0.3274 - accuracy: 0.8675 - val_loss: 0.4031 - val_accuracy: 0.8475\n",
            "Epoch 33/100\n",
            "11/11 [==============================] - 0s 14ms/step - loss: 0.3176 - accuracy: 0.8524 - val_loss: 0.4264 - val_accuracy: 0.8644\n",
            "Epoch 34/100\n",
            "11/11 [==============================] - 0s 13ms/step - loss: 0.2952 - accuracy: 0.8645 - val_loss: 0.4169 - val_accuracy: 0.8305\n",
            "Epoch 35/100\n",
            "11/11 [==============================] - 0s 13ms/step - loss: 0.2686 - accuracy: 0.8946 - val_loss: 0.4471 - val_accuracy: 0.8305\n",
            "Epoch 36/100\n",
            "11/11 [==============================] - 0s 13ms/step - loss: 0.2837 - accuracy: 0.8855 - val_loss: 0.4594 - val_accuracy: 0.8475\n",
            "Epoch 37/100\n",
            "11/11 [==============================] - 0s 13ms/step - loss: 0.2601 - accuracy: 0.8946 - val_loss: 0.3975 - val_accuracy: 0.8644\n",
            "Epoch 38/100\n",
            "11/11 [==============================] - 0s 15ms/step - loss: 0.2541 - accuracy: 0.9096 - val_loss: 0.4914 - val_accuracy: 0.8305\n",
            "Epoch 39/100\n",
            "11/11 [==============================] - 0s 14ms/step - loss: 0.2706 - accuracy: 0.8825 - val_loss: 0.3874 - val_accuracy: 0.8475\n",
            "Epoch 40/100\n",
            "11/11 [==============================] - 0s 14ms/step - loss: 0.2744 - accuracy: 0.8946 - val_loss: 0.4003 - val_accuracy: 0.8644\n",
            "Epoch 41/100\n",
            "11/11 [==============================] - 0s 13ms/step - loss: 0.2669 - accuracy: 0.8765 - val_loss: 0.4027 - val_accuracy: 0.8644\n",
            "Epoch 42/100\n",
            "11/11 [==============================] - 0s 13ms/step - loss: 0.2597 - accuracy: 0.8916 - val_loss: 0.4686 - val_accuracy: 0.8475\n",
            "Epoch 43/100\n",
            "11/11 [==============================] - 0s 13ms/step - loss: 0.2653 - accuracy: 0.8765 - val_loss: 0.4185 - val_accuracy: 0.8475\n",
            "Epoch 44/100\n",
            "11/11 [==============================] - 0s 15ms/step - loss: 0.2729 - accuracy: 0.8916 - val_loss: 0.5262 - val_accuracy: 0.8475\n",
            "Epoch 45/100\n",
            "11/11 [==============================] - 0s 15ms/step - loss: 0.2666 - accuracy: 0.8765 - val_loss: 0.4570 - val_accuracy: 0.8305\n",
            "Epoch 46/100\n",
            "11/11 [==============================] - 0s 13ms/step - loss: 0.2599 - accuracy: 0.8946 - val_loss: 0.4734 - val_accuracy: 0.8305\n",
            "Epoch 47/100\n",
            "11/11 [==============================] - 0s 13ms/step - loss: 0.2271 - accuracy: 0.9187 - val_loss: 0.5389 - val_accuracy: 0.8136\n",
            "Epoch 48/100\n",
            "11/11 [==============================] - 0s 13ms/step - loss: 0.2581 - accuracy: 0.8946 - val_loss: 0.5312 - val_accuracy: 0.8475\n",
            "Epoch 49/100\n",
            "11/11 [==============================] - 0s 12ms/step - loss: 0.2347 - accuracy: 0.9096 - val_loss: 0.5081 - val_accuracy: 0.8475\n",
            "Epoch 50/100\n",
            "11/11 [==============================] - 0s 12ms/step - loss: 0.2277 - accuracy: 0.9127 - val_loss: 0.6573 - val_accuracy: 0.8305\n",
            "Epoch 51/100\n",
            "11/11 [==============================] - 0s 13ms/step - loss: 0.2185 - accuracy: 0.8976 - val_loss: 0.3777 - val_accuracy: 0.8475\n",
            "Epoch 52/100\n",
            "11/11 [==============================] - 0s 16ms/step - loss: 0.1876 - accuracy: 0.9217 - val_loss: 0.4973 - val_accuracy: 0.8644\n",
            "Epoch 53/100\n",
            "11/11 [==============================] - 0s 14ms/step - loss: 0.2195 - accuracy: 0.9217 - val_loss: 0.3495 - val_accuracy: 0.8644\n",
            "Epoch 54/100\n",
            "11/11 [==============================] - 0s 13ms/step - loss: 0.2149 - accuracy: 0.9036 - val_loss: 0.5763 - val_accuracy: 0.8644\n",
            "Epoch 55/100\n",
            "11/11 [==============================] - 0s 13ms/step - loss: 0.2830 - accuracy: 0.8795 - val_loss: 0.4982 - val_accuracy: 0.8475\n",
            "Epoch 56/100\n",
            "11/11 [==============================] - 0s 13ms/step - loss: 0.2104 - accuracy: 0.9096 - val_loss: 0.3909 - val_accuracy: 0.8475\n",
            "Epoch 57/100\n",
            "11/11 [==============================] - 0s 15ms/step - loss: 0.2092 - accuracy: 0.9307 - val_loss: 0.6534 - val_accuracy: 0.8475\n",
            "Epoch 58/100\n",
            "11/11 [==============================] - 0s 15ms/step - loss: 0.2041 - accuracy: 0.9096 - val_loss: 0.4925 - val_accuracy: 0.8475\n",
            "Epoch 59/100\n",
            "11/11 [==============================] - 0s 14ms/step - loss: 0.2025 - accuracy: 0.9187 - val_loss: 0.6229 - val_accuracy: 0.8475\n",
            "Epoch 60/100\n",
            "11/11 [==============================] - 0s 14ms/step - loss: 0.1955 - accuracy: 0.9277 - val_loss: 0.5062 - val_accuracy: 0.8644\n",
            "Epoch 61/100\n",
            "11/11 [==============================] - 0s 14ms/step - loss: 0.2227 - accuracy: 0.9036 - val_loss: 0.5006 - val_accuracy: 0.8475\n",
            "Epoch 62/100\n",
            "11/11 [==============================] - 0s 13ms/step - loss: 0.1963 - accuracy: 0.9367 - val_loss: 0.6497 - val_accuracy: 0.8644\n",
            "Epoch 63/100\n",
            "11/11 [==============================] - 0s 13ms/step - loss: 0.2141 - accuracy: 0.9096 - val_loss: 0.6408 - val_accuracy: 0.8305\n",
            "Epoch 64/100\n",
            "11/11 [==============================] - 0s 14ms/step - loss: 0.2149 - accuracy: 0.9187 - val_loss: 0.5615 - val_accuracy: 0.8475\n",
            "Epoch 65/100\n",
            "11/11 [==============================] - 0s 14ms/step - loss: 0.2198 - accuracy: 0.9157 - val_loss: 0.8500 - val_accuracy: 0.8136\n",
            "Epoch 66/100\n",
            "11/11 [==============================] - 0s 14ms/step - loss: 0.2516 - accuracy: 0.8916 - val_loss: 0.4109 - val_accuracy: 0.8475\n",
            "Epoch 67/100\n",
            "11/11 [==============================] - 0s 14ms/step - loss: 0.2457 - accuracy: 0.8916 - val_loss: 0.3661 - val_accuracy: 0.8814\n",
            "Epoch 68/100\n",
            "11/11 [==============================] - 0s 15ms/step - loss: 0.1977 - accuracy: 0.9247 - val_loss: 0.5496 - val_accuracy: 0.8475\n",
            "Epoch 69/100\n",
            "11/11 [==============================] - 0s 14ms/step - loss: 0.1811 - accuracy: 0.9307 - val_loss: 0.4406 - val_accuracy: 0.8475\n",
            "Epoch 70/100\n",
            "11/11 [==============================] - 0s 13ms/step - loss: 0.1717 - accuracy: 0.9428 - val_loss: 0.4737 - val_accuracy: 0.8475\n",
            "Epoch 71/100\n",
            "11/11 [==============================] - 0s 15ms/step - loss: 0.1863 - accuracy: 0.9217 - val_loss: 0.4560 - val_accuracy: 0.8644\n",
            "Epoch 72/100\n",
            "11/11 [==============================] - 0s 14ms/step - loss: 0.1683 - accuracy: 0.9428 - val_loss: 0.6264 - val_accuracy: 0.8475\n",
            "Epoch 73/100\n",
            "11/11 [==============================] - 0s 14ms/step - loss: 0.2051 - accuracy: 0.9127 - val_loss: 0.5655 - val_accuracy: 0.8644\n",
            "Epoch 74/100\n",
            "11/11 [==============================] - 0s 14ms/step - loss: 0.1797 - accuracy: 0.9217 - val_loss: 0.5452 - val_accuracy: 0.8475\n",
            "Epoch 75/100\n",
            "11/11 [==============================] - 0s 14ms/step - loss: 0.1657 - accuracy: 0.9367 - val_loss: 0.5715 - val_accuracy: 0.8475\n",
            "Epoch 76/100\n",
            "11/11 [==============================] - 0s 15ms/step - loss: 0.1932 - accuracy: 0.9127 - val_loss: 0.5848 - val_accuracy: 0.8475\n",
            "Epoch 77/100\n",
            "11/11 [==============================] - 0s 14ms/step - loss: 0.1630 - accuracy: 0.9367 - val_loss: 0.7459 - val_accuracy: 0.8305\n",
            "Epoch 78/100\n",
            "11/11 [==============================] - 0s 14ms/step - loss: 0.1592 - accuracy: 0.9428 - val_loss: 0.5099 - val_accuracy: 0.8475\n",
            "Epoch 79/100\n",
            "11/11 [==============================] - 0s 15ms/step - loss: 0.1605 - accuracy: 0.9337 - val_loss: 0.6128 - val_accuracy: 0.8475\n",
            "Epoch 80/100\n",
            "11/11 [==============================] - 0s 14ms/step - loss: 0.2213 - accuracy: 0.9127 - val_loss: 0.5120 - val_accuracy: 0.8475\n",
            "Epoch 81/100\n",
            "11/11 [==============================] - 0s 15ms/step - loss: 0.2194 - accuracy: 0.9036 - val_loss: 0.4307 - val_accuracy: 0.8814\n",
            "Epoch 82/100\n",
            "11/11 [==============================] - 0s 14ms/step - loss: 0.1934 - accuracy: 0.9187 - val_loss: 0.7605 - val_accuracy: 0.8475\n",
            "Epoch 83/100\n",
            "11/11 [==============================] - 0s 14ms/step - loss: 0.1774 - accuracy: 0.9187 - val_loss: 0.5226 - val_accuracy: 0.8475\n",
            "Epoch 84/100\n",
            "11/11 [==============================] - 0s 15ms/step - loss: 0.1367 - accuracy: 0.9458 - val_loss: 0.6752 - val_accuracy: 0.8644\n",
            "Epoch 85/100\n",
            "11/11 [==============================] - 0s 14ms/step - loss: 0.1557 - accuracy: 0.9428 - val_loss: 0.7834 - val_accuracy: 0.8475\n",
            "Epoch 86/100\n",
            "11/11 [==============================] - 0s 13ms/step - loss: 0.1526 - accuracy: 0.9458 - val_loss: 0.6260 - val_accuracy: 0.8644\n",
            "Epoch 87/100\n",
            "11/11 [==============================] - 0s 14ms/step - loss: 0.1713 - accuracy: 0.9247 - val_loss: 0.7085 - val_accuracy: 0.8475\n",
            "Epoch 88/100\n",
            "11/11 [==============================] - 0s 14ms/step - loss: 0.1315 - accuracy: 0.9488 - val_loss: 0.6335 - val_accuracy: 0.8475\n",
            "Epoch 89/100\n",
            "11/11 [==============================] - 0s 14ms/step - loss: 0.1468 - accuracy: 0.9398 - val_loss: 0.6473 - val_accuracy: 0.8475\n",
            "Epoch 90/100\n",
            "11/11 [==============================] - 0s 15ms/step - loss: 0.2144 - accuracy: 0.9006 - val_loss: 0.8017 - val_accuracy: 0.8305\n",
            "Epoch 91/100\n",
            "11/11 [==============================] - 0s 14ms/step - loss: 0.1706 - accuracy: 0.9337 - val_loss: 0.8329 - val_accuracy: 0.8475\n",
            "Epoch 92/100\n",
            "11/11 [==============================] - 0s 14ms/step - loss: 0.2163 - accuracy: 0.9036 - val_loss: 0.7504 - val_accuracy: 0.8305\n",
            "Epoch 93/100\n",
            "11/11 [==============================] - 0s 14ms/step - loss: 0.2028 - accuracy: 0.9127 - val_loss: 0.7691 - val_accuracy: 0.8475\n",
            "Epoch 94/100\n",
            "11/11 [==============================] - 0s 15ms/step - loss: 0.1721 - accuracy: 0.9277 - val_loss: 0.7310 - val_accuracy: 0.8475\n",
            "Epoch 95/100\n",
            "11/11 [==============================] - 0s 14ms/step - loss: 0.1768 - accuracy: 0.9217 - val_loss: 0.8146 - val_accuracy: 0.8475\n",
            "Epoch 96/100\n",
            "11/11 [==============================] - 0s 14ms/step - loss: 0.1910 - accuracy: 0.9157 - val_loss: 0.7560 - val_accuracy: 0.8475\n",
            "Epoch 97/100\n",
            "11/11 [==============================] - 0s 16ms/step - loss: 0.1744 - accuracy: 0.9187 - val_loss: 0.6987 - val_accuracy: 0.8475\n",
            "Epoch 98/100\n",
            "11/11 [==============================] - 0s 14ms/step - loss: 0.2632 - accuracy: 0.8976 - val_loss: 0.9835 - val_accuracy: 0.8475\n",
            "Epoch 99/100\n",
            "11/11 [==============================] - 0s 14ms/step - loss: 0.2215 - accuracy: 0.9096 - val_loss: 0.5785 - val_accuracy: 0.8475\n",
            "Epoch 100/100\n",
            "11/11 [==============================] - 0s 14ms/step - loss: 0.1818 - accuracy: 0.9367 - val_loss: 0.7776 - val_accuracy: 0.8644\n"
          ]
        }
      ]
    },
    {
      "cell_type": "code",
      "source": [
        "import matplotlib.pyplot as plt\n",
        "\n",
        "print(H.history.keys())\n",
        "# summarize history for accuracy\n",
        "plt.plot(H.history['accuracy'])\n",
        "plt.plot(H.history['val_accuracy'])\n",
        "plt.title('model accuracy')\n",
        "plt.ylabel('accuracy')\n",
        "plt.xlabel('epoch')\n",
        "plt.legend(['train', 'test'], loc='upper left')\n",
        "plt.show()\n",
        "# summarize history for loss\n",
        "plt.plot(H.history['loss'])\n",
        "plt.plot(H.history['val_loss'])\n",
        "plt.title('model loss')\n",
        "plt.ylabel('loss')\n",
        "plt.xlabel('epoch')\n",
        "plt.legend(['train', 'test'], loc='upper left')\n",
        "plt.show()"
      ],
      "metadata": {
        "colab": {
          "base_uri": "https://localhost:8080/",
          "height": 591
        },
        "id": "5KZB8YqD8Uk6",
        "outputId": "d08402dd-f0ce-4e2e-95b9-586728194a63"
      },
      "execution_count": 30,
      "outputs": [
        {
          "output_type": "stream",
          "name": "stdout",
          "text": [
            "dict_keys(['loss', 'accuracy', 'val_loss', 'val_accuracy'])\n"
          ]
        },
        {
          "output_type": "display_data",
          "data": {
            "image/png": "[encoded data removed]",
            "text/plain": [
              "<Figure size 432x288 with 1 Axes>"
            ]
          },
          "metadata": {
            "needs_background": "light"
          }
        },
        {
          "output_type": "display_data",
          "data": {
            "image/png": "[encoded data removed]",
            "text/plain": [
              "<Figure size 432x288 with 1 Axes>"
            ]
          },
          "metadata": {
            "needs_background": "light"
          }
        }
      ]
    },
    {
      "cell_type": "code",
      "source": [
        "# evaluate the network\n",
        "print(\"[INFO] evaluating network...\")\n",
        "predictions = model.predict(testX, batch_size=32)\n",
        "print(classification_report(testY.argmax(axis=1),predictions.argmax(axis=1), target_names=lb.classes_))"
      ],
      "metadata": {
        "colab": {
          "base_uri": "https://localhost:8080/"
        },
        "id": "E7j2fQ2D8bBt",
        "outputId": "bee0c34b-01ff-4474-ba92-38049055d98c"
      },
      "execution_count": 31,
      "outputs": [
        {
          "output_type": "stream",
          "name": "stdout",
          "text": [
            "[INFO] evaluating network...\n",
            "              precision    recall  f1-score   support\n",
            "\n",
            "    Immature       0.85      1.00      0.92        29\n",
            "      Mature       1.00      0.30      0.46        10\n",
            "  Overmature       0.86      0.95      0.90        20\n",
            "\n",
            "    accuracy                           0.86        59\n",
            "   macro avg       0.91      0.75      0.76        59\n",
            "weighted avg       0.88      0.86      0.84        59\n",
            "\n"
          ]
        }
      ]
    }
  ]
}