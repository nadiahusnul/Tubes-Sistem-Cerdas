{
  "nbformat": 4,
  "nbformat_minor": 0,
  "metadata": {
    "colab": {
      "name": "ANN Cocoa",
      "provenance": [],
      "collapsed_sections": []
    },
    "kernelspec": {
      "name": "python3",
      "display_name": "Python 3"
    },
    "language_info": {
      "name": "python"
    }
  },
  "cells": [
    {
      "cell_type": "markdown",
      "source": [
        "# ANN"
      ],
      "metadata": {
        "id": "7tj-WQ4q0mit"
      }
    },
    {
      "cell_type": "code",
      "execution_count": null,
      "metadata": {
        "colab": {
          "base_uri": "https://localhost:8080/"
        },
        "id": "cJMHg4-hxWxD",
        "outputId": "37bf2246-82a8-4ef1-c56c-e82f9fc6d914"
      },
      "outputs": [
        {
          "output_type": "stream",
          "name": "stdout",
          "text": [
            "Drive already mounted at /content/drive; to attempt to forcibly remount, call drive.mount(\"/content/drive\", force_remount=True).\n"
          ]
        }
      ],
      "source": [
        "from google.colab import drive\n",
        "drive.mount('/content/drive')"
      ]
    },
    {
      "cell_type": "code",
      "source": [
        "cd /content/drive/My Drive/Colab Notebooks"
      ],
      "metadata": {
        "colab": {
          "base_uri": "https://localhost:8080/"
        },
        "id": "BJIP-4JdxiEg",
        "outputId": "7f71e665-ece1-440c-e5ca-7f0a57aa8d4a"
      },
      "execution_count": null,
      "outputs": [
        {
          "output_type": "stream",
          "name": "stdout",
          "text": [
            "/content/drive/My Drive/Colab Notebooks\n"
          ]
        }
      ]
    },
    {
      "cell_type": "code",
      "source": [
        "from keras.models import Sequential\n",
        "from keras.layers.core import Activation\n",
        "from keras.layers.core import Flatten\n",
        "from keras.layers.core import Dense\n",
        "from tensorflow.keras.optimizers import Adam\n",
        "from sklearn.preprocessing import LabelBinarizer\n",
        "from sklearn.model_selection import train_test_split\n",
        "from sklearn.metrics import classification_report\n",
        "from PIL import Image\n",
        "from PIL import ImageFilter\n",
        "from imutils import paths\n",
        "import numpy as np\n",
        "import os"
      ],
      "metadata": {
        "id": "UeEFMfx4xoo5"
      },
      "execution_count": null,
      "outputs": []
    },
    {
      "cell_type": "code",
      "source": [
        "# grab all image paths in the input dataset directory, then initialize\n",
        "# our list of images and corresponding class labels\n",
        "print(\"[INFO] loading images...\")\n",
        "imagePaths = paths.list_images(\"Data Cocoa Ripe\")\n",
        "data = []\n",
        "labels = []"
      ],
      "metadata": {
        "colab": {
          "base_uri": "https://localhost:8080/"
        },
        "id": "581gQfeNxtZA",
        "outputId": "d8892221-cca3-4251-c252-5a3975815403"
      },
      "execution_count": null,
      "outputs": [
        {
          "output_type": "stream",
          "name": "stdout",
          "text": [
            "[INFO] loading images...\n"
          ]
        }
      ]
    },
    {
      "cell_type": "code",
      "source": [
        "for imagePath in imagePaths:\n",
        "  image=Image.open(imagePath)\n",
        "  image=image.filter(ImageFilter.SMOOTH)\n",
        "  image = image.filter(ImageFilter.SMOOTH_MORE)\n",
        "  image=np.array(image.resize((64,64))) / 255.0\n",
        "  data.append(image)\n",
        "  label=imagePath.split(os.path.sep)[-2]\n",
        "  labels.append(label)"
      ],
      "metadata": {
        "id": "Fo88bwzgx1RS"
      },
      "execution_count": null,
      "outputs": []
    },
    {
      "cell_type": "code",
      "source": [
        "print(labels)"
      ],
      "metadata": {
        "colab": {
          "base_uri": "https://localhost:8080/"
        },
        "id": "ROU1PwzCx_qW",
        "outputId": "529e0015-abc8-4e70-b591-33b603a0ed52"
      },
      "execution_count": null,
      "outputs": [
        {
          "output_type": "stream",
          "name": "stdout",
          "text": [
            "['Mature', 'Mature', 'Mature', 'Mature', 'Mature', 'Mature', 'Mature', 'Mature', 'Mature', 'Mature', 'Mature', 'Mature', 'Mature', 'Mature', 'Mature', 'Mature', 'Mature', 'Mature', 'Mature', 'Mature', 'Mature', 'Mature', 'Mature', 'Mature', 'Mature', 'Mature', 'Mature', 'Mature', 'Mature', 'Mature', 'Mature', 'Mature', 'Mature', 'Mature', 'Mature', 'Mature', 'Mature', 'Mature', 'Mature', 'Mature', 'Mature', 'Mature', 'Mature', 'Mature', 'Mature', 'Mature', 'Mature', 'Mature', 'Mature', 'Mature', 'Mature', 'Mature', 'Mature', 'Mature', 'Mature', 'Mature', 'Mature', 'Mature', 'Mature', 'Mature', 'Mature', 'Mature', 'Mature', 'Mature', 'Mature', 'Mature', 'Mature', 'Mature', 'Mature', 'Mature', 'Mature', 'Imature', 'Imature', 'Imature', 'Imature', 'Imature', 'Imature', 'Imature', 'Imature', 'Imature', 'Imature', 'Imature', 'Imature', 'Imature', 'Imature', 'Imature', 'Imature', 'Imature', 'Imature', 'Imature', 'Imature', 'Imature', 'Imature', 'Imature', 'Imature', 'Imature', 'Imature', 'Imature', 'Imature', 'Imature', 'Imature', 'Imature', 'Imature', 'Imature', 'Imature', 'Imature', 'Imature', 'Imature', 'Imature', 'Imature', 'Imature', 'Imature', 'Imature', 'Imature', 'Imature', 'Imature', 'Imature', 'Imature', 'Imature', 'Imature', 'Imature', 'Imature', 'Imature', 'Imature', 'Imature', 'Imature', 'Imature', 'Imature', 'Imature', 'Imature', 'Imature', 'Imature', 'Imature', 'Imature', 'Imature', 'Imature', 'Imature', 'Imature', 'Imature', 'Imature', 'Imature', 'Imature', 'OverMature', 'OverMature', 'OverMature', 'OverMature', 'OverMature', 'OverMature', 'OverMature', 'OverMature', 'OverMature', 'OverMature', 'OverMature', 'OverMature', 'OverMature', 'OverMature', 'OverMature', 'OverMature', 'OverMature', 'OverMature', 'OverMature', 'OverMature', 'OverMature', 'OverMature', 'OverMature', 'OverMature', 'OverMature', 'OverMature', 'OverMature', 'OverMature', 'OverMature', 'OverMature', 'OverMature', 'OverMature', 'OverMature', 'OverMature', 'OverMature', 'OverMature', 'OverMature', 'OverMature', 'OverMature', 'OverMature', 'OverMature', 'OverMature', 'OverMature', 'OverMature', 'OverMature', 'OverMature', 'OverMature', 'OverMature', 'OverMature', 'OverMature', 'OverMature', 'OverMature', 'OverMature', 'OverMature', 'OverMature', 'OverMature', 'OverMature', 'OverMature', 'OverMature', 'OverMature', 'OverMature', 'OverMature', 'OverMature', 'OverMature', 'OverMature', 'OverMature', 'OverMature', 'OverMature', 'OverMature', 'OverMature', 'OverMature']\n"
          ]
        }
      ]
    },
    {
      "cell_type": "code",
      "source": [
        "# encode the labels, converting them from strings to integers\n",
        "lb = LabelBinarizer()\n",
        "labels = lb.fit_transform(labels)"
      ],
      "metadata": {
        "id": "imyOwScmyDS9"
      },
      "execution_count": null,
      "outputs": []
    },
    {
      "cell_type": "code",
      "source": [
        "print(labels)"
      ],
      "metadata": {
        "colab": {
          "base_uri": "https://localhost:8080/"
        },
        "id": "UfxeNBn-yGbB",
        "outputId": "ff0bb4c4-2f41-4413-d893-1c4c58b6476e"
      },
      "execution_count": null,
      "outputs": [
        {
          "output_type": "stream",
          "name": "stdout",
          "text": [
            "[[0 1 0]\n",
            " [0 1 0]\n",
            " [0 1 0]\n",
            " [0 1 0]\n",
            " [0 1 0]\n",
            " [0 1 0]\n",
            " [0 1 0]\n",
            " [0 1 0]\n",
            " [0 1 0]\n",
            " [0 1 0]\n",
            " [0 1 0]\n",
            " [0 1 0]\n",
            " [0 1 0]\n",
            " [0 1 0]\n",
            " [0 1 0]\n",
            " [0 1 0]\n",
            " [0 1 0]\n",
            " [0 1 0]\n",
            " [0 1 0]\n",
            " [0 1 0]\n",
            " [0 1 0]\n",
            " [0 1 0]\n",
            " [0 1 0]\n",
            " [0 1 0]\n",
            " [0 1 0]\n",
            " [0 1 0]\n",
            " [0 1 0]\n",
            " [0 1 0]\n",
            " [0 1 0]\n",
            " [0 1 0]\n",
            " [0 1 0]\n",
            " [0 1 0]\n",
            " [0 1 0]\n",
            " [0 1 0]\n",
            " [0 1 0]\n",
            " [0 1 0]\n",
            " [0 1 0]\n",
            " [0 1 0]\n",
            " [0 1 0]\n",
            " [0 1 0]\n",
            " [0 1 0]\n",
            " [0 1 0]\n",
            " [0 1 0]\n",
            " [0 1 0]\n",
            " [0 1 0]\n",
            " [0 1 0]\n",
            " [0 1 0]\n",
            " [0 1 0]\n",
            " [0 1 0]\n",
            " [0 1 0]\n",
            " [0 1 0]\n",
            " [0 1 0]\n",
            " [0 1 0]\n",
            " [0 1 0]\n",
            " [0 1 0]\n",
            " [0 1 0]\n",
            " [0 1 0]\n",
            " [0 1 0]\n",
            " [0 1 0]\n",
            " [0 1 0]\n",
            " [0 1 0]\n",
            " [0 1 0]\n",
            " [0 1 0]\n",
            " [0 1 0]\n",
            " [0 1 0]\n",
            " [0 1 0]\n",
            " [0 1 0]\n",
            " [0 1 0]\n",
            " [0 1 0]\n",
            " [0 1 0]\n",
            " [0 1 0]\n",
            " [1 0 0]\n",
            " [1 0 0]\n",
            " [1 0 0]\n",
            " [1 0 0]\n",
            " [1 0 0]\n",
            " [1 0 0]\n",
            " [1 0 0]\n",
            " [1 0 0]\n",
            " [1 0 0]\n",
            " [1 0 0]\n",
            " [1 0 0]\n",
            " [1 0 0]\n",
            " [1 0 0]\n",
            " [1 0 0]\n",
            " [1 0 0]\n",
            " [1 0 0]\n",
            " [1 0 0]\n",
            " [1 0 0]\n",
            " [1 0 0]\n",
            " [1 0 0]\n",
            " [1 0 0]\n",
            " [1 0 0]\n",
            " [1 0 0]\n",
            " [1 0 0]\n",
            " [1 0 0]\n",
            " [1 0 0]\n",
            " [1 0 0]\n",
            " [1 0 0]\n",
            " [1 0 0]\n",
            " [1 0 0]\n",
            " [1 0 0]\n",
            " [1 0 0]\n",
            " [1 0 0]\n",
            " [1 0 0]\n",
            " [1 0 0]\n",
            " [1 0 0]\n",
            " [1 0 0]\n",
            " [1 0 0]\n",
            " [1 0 0]\n",
            " [1 0 0]\n",
            " [1 0 0]\n",
            " [1 0 0]\n",
            " [1 0 0]\n",
            " [1 0 0]\n",
            " [1 0 0]\n",
            " [1 0 0]\n",
            " [1 0 0]\n",
            " [1 0 0]\n",
            " [1 0 0]\n",
            " [1 0 0]\n",
            " [1 0 0]\n",
            " [1 0 0]\n",
            " [1 0 0]\n",
            " [1 0 0]\n",
            " [1 0 0]\n",
            " [1 0 0]\n",
            " [1 0 0]\n",
            " [1 0 0]\n",
            " [1 0 0]\n",
            " [1 0 0]\n",
            " [1 0 0]\n",
            " [1 0 0]\n",
            " [1 0 0]\n",
            " [1 0 0]\n",
            " [1 0 0]\n",
            " [1 0 0]\n",
            " [1 0 0]\n",
            " [1 0 0]\n",
            " [1 0 0]\n",
            " [1 0 0]\n",
            " [1 0 0]\n",
            " [0 0 1]\n",
            " [0 0 1]\n",
            " [0 0 1]\n",
            " [0 0 1]\n",
            " [0 0 1]\n",
            " [0 0 1]\n",
            " [0 0 1]\n",
            " [0 0 1]\n",
            " [0 0 1]\n",
            " [0 0 1]\n",
            " [0 0 1]\n",
            " [0 0 1]\n",
            " [0 0 1]\n",
            " [0 0 1]\n",
            " [0 0 1]\n",
            " [0 0 1]\n",
            " [0 0 1]\n",
            " [0 0 1]\n",
            " [0 0 1]\n",
            " [0 0 1]\n",
            " [0 0 1]\n",
            " [0 0 1]\n",
            " [0 0 1]\n",
            " [0 0 1]\n",
            " [0 0 1]\n",
            " [0 0 1]\n",
            " [0 0 1]\n",
            " [0 0 1]\n",
            " [0 0 1]\n",
            " [0 0 1]\n",
            " [0 0 1]\n",
            " [0 0 1]\n",
            " [0 0 1]\n",
            " [0 0 1]\n",
            " [0 0 1]\n",
            " [0 0 1]\n",
            " [0 0 1]\n",
            " [0 0 1]\n",
            " [0 0 1]\n",
            " [0 0 1]\n",
            " [0 0 1]\n",
            " [0 0 1]\n",
            " [0 0 1]\n",
            " [0 0 1]\n",
            " [0 0 1]\n",
            " [0 0 1]\n",
            " [0 0 1]\n",
            " [0 0 1]\n",
            " [0 0 1]\n",
            " [0 0 1]\n",
            " [0 0 1]\n",
            " [0 0 1]\n",
            " [0 0 1]\n",
            " [0 0 1]\n",
            " [0 0 1]\n",
            " [0 0 1]\n",
            " [0 0 1]\n",
            " [0 0 1]\n",
            " [0 0 1]\n",
            " [0 0 1]\n",
            " [0 0 1]\n",
            " [0 0 1]\n",
            " [0 0 1]\n",
            " [0 0 1]\n",
            " [0 0 1]\n",
            " [0 0 1]\n",
            " [0 0 1]\n",
            " [0 0 1]\n",
            " [0 0 1]\n",
            " [0 0 1]\n",
            " [0 0 1]]\n"
          ]
        }
      ]
    },
    {
      "cell_type": "code",
      "source": [
        "print(np.array(data).shape)"
      ],
      "metadata": {
        "colab": {
          "base_uri": "https://localhost:8080/"
        },
        "id": "0l-spa97yNVd",
        "outputId": "91e3c1f4-8acc-42ac-b693-a71487706197"
      },
      "execution_count": null,
      "outputs": [
        {
          "output_type": "stream",
          "name": "stdout",
          "text": [
            "(213, 64, 64, 3)\n"
          ]
        }
      ]
    },
    {
      "cell_type": "code",
      "source": [
        "# perform a training and testing split, using 75% of the data for\n",
        "# training and 25% for evaluation\n",
        "(trainX, testX, trainY, testY) = train_test_split(np.array(data),\tnp.array(labels), test_size=0.15)\n",
        "print(trainX.shape)\n",
        "print(testX.shape)"
      ],
      "metadata": {
        "colab": {
          "base_uri": "https://localhost:8080/"
        },
        "id": "kcdn1bUGyQ2B",
        "outputId": "15e61cc7-2501-4c1f-ad2e-4f9baf97b45e"
      },
      "execution_count": null,
      "outputs": [
        {
          "output_type": "stream",
          "name": "stdout",
          "text": [
            "(181, 64, 64, 3)\n",
            "(32, 64, 64, 3)\n"
          ]
        }
      ]
    },
    {
      "cell_type": "code",
      "source": [
        "trainX = trainX.reshape(181,3*64*64)\n",
        "testX = testX.reshape(32,3*64*64)"
      ],
      "metadata": {
        "id": "jZvK11g6zG5V"
      },
      "execution_count": null,
      "outputs": []
    },
    {
      "cell_type": "code",
      "source": [
        "from keras.models import Sequential\n",
        "from keras.layers.core import Flatten\n",
        "from keras.layers.core import Dense, Dropout\n",
        "#from keras.layers import Conv2D, MaxPooling2D\n",
        "\n",
        "model = Sequential(\n",
        "    [\n",
        "     Flatten(input_shape=(64*64*3,)),\n",
        "     Dense(100, activation=\"relu\"),\n",
        "     Dense(100, activation=\"relu\"),\n",
        "     Dense(50, activation=\"relu\"),\n",
        "     Dense(3, activation=\"softmax\"),\n",
        "    ]\n",
        ")"
      ],
      "metadata": {
        "id": "2dSScbEVyUv5"
      },
      "execution_count": null,
      "outputs": []
    },
    {
      "cell_type": "code",
      "source": [
        "model.summary()"
      ],
      "metadata": {
        "colab": {
          "base_uri": "https://localhost:8080/"
        },
        "id": "kj8IuspfyY-k",
        "outputId": "97878683-861e-41b8-8dfc-db926f6d8597"
      },
      "execution_count": null,
      "outputs": [
        {
          "output_type": "stream",
          "name": "stdout",
          "text": [
            "Model: \"sequential_1\"\n",
            "_________________________________________________________________\n",
            " Layer (type)                Output Shape              Param #   \n",
            "=================================================================\n",
            " flatten_1 (Flatten)         (None, 12288)             0         \n",
            "                                                                 \n",
            " dense_4 (Dense)             (None, 100)               1228900   \n",
            "                                                                 \n",
            " dense_5 (Dense)             (None, 100)               10100     \n",
            "                                                                 \n",
            " dense_6 (Dense)             (None, 50)                5050      \n",
            "                                                                 \n",
            " dense_7 (Dense)             (None, 3)                 153       \n",
            "                                                                 \n",
            "=================================================================\n",
            "Total params: 1,244,203\n",
            "Trainable params: 1,244,203\n",
            "Non-trainable params: 0\n",
            "_________________________________________________________________\n"
          ]
        }
      ]
    },
    {
      "cell_type": "code",
      "source": [
        "# train the model using the Adam optimizer\n",
        "print(\"[INFO] training network...\")\n",
        "opt = Adam(lr=1e-3, decay=1e-3)\n",
        "model.compile(loss=\"categorical_crossentropy\", optimizer=opt, metrics=[\"accuracy\"])\n",
        "H = model.fit(trainX, trainY, validation_data=(testX, testY), epochs=100, batch_size=32)"
      ],
      "metadata": {
        "colab": {
          "base_uri": "https://localhost:8080/"
        },
        "id": "hqjVjjhpydu4",
        "outputId": "44935b3b-3922-4c3d-a4f3-2cd99a60c3af"
      },
      "execution_count": null,
      "outputs": [
        {
          "output_type": "stream",
          "name": "stdout",
          "text": [
            "[INFO] training network...\n",
            "Epoch 1/100\n"
          ]
        },
        {
          "output_type": "stream",
          "name": "stderr",
          "text": [
            "/usr/local/lib/python3.7/dist-packages/keras/optimizer_v2/adam.py:105: UserWarning: The `lr` argument is deprecated, use `learning_rate` instead.\n",
            "  super(Adam, self).__init__(name, **kwargs)\n"
          ]
        },
        {
          "output_type": "stream",
          "name": "stdout",
          "text": [
            "6/6 [==============================] - 1s 50ms/step - loss: 1.7334 - accuracy: 0.3536 - val_loss: 1.2975 - val_accuracy: 0.4062\n",
            "Epoch 2/100\n",
            "6/6 [==============================] - 0s 17ms/step - loss: 0.9904 - accuracy: 0.4972 - val_loss: 0.9853 - val_accuracy: 0.2188\n",
            "Epoch 3/100\n",
            "6/6 [==============================] - 0s 13ms/step - loss: 0.9421 - accuracy: 0.5138 - val_loss: 0.9620 - val_accuracy: 0.4688\n",
            "Epoch 4/100\n",
            "6/6 [==============================] - 0s 18ms/step - loss: 0.7811 - accuracy: 0.5801 - val_loss: 0.6061 - val_accuracy: 0.7188\n",
            "Epoch 5/100\n",
            "6/6 [==============================] - 0s 17ms/step - loss: 0.6518 - accuracy: 0.6630 - val_loss: 0.5428 - val_accuracy: 0.7500\n",
            "Epoch 6/100\n",
            "6/6 [==============================] - 0s 15ms/step - loss: 0.6220 - accuracy: 0.6961 - val_loss: 0.8112 - val_accuracy: 0.4688\n",
            "Epoch 7/100\n",
            "6/6 [==============================] - 0s 16ms/step - loss: 0.6752 - accuracy: 0.6630 - val_loss: 0.5411 - val_accuracy: 0.7500\n",
            "Epoch 8/100\n",
            "6/6 [==============================] - 0s 17ms/step - loss: 0.5182 - accuracy: 0.7459 - val_loss: 0.5370 - val_accuracy: 0.8125\n",
            "Epoch 9/100\n",
            "6/6 [==============================] - 0s 16ms/step - loss: 0.5165 - accuracy: 0.7680 - val_loss: 0.5629 - val_accuracy: 0.7500\n",
            "Epoch 10/100\n",
            "6/6 [==============================] - 0s 16ms/step - loss: 0.4983 - accuracy: 0.8011 - val_loss: 0.5738 - val_accuracy: 0.7500\n",
            "Epoch 11/100\n",
            "6/6 [==============================] - 0s 19ms/step - loss: 0.4393 - accuracy: 0.8066 - val_loss: 0.5058 - val_accuracy: 0.8125\n",
            "Epoch 12/100\n",
            "6/6 [==============================] - 0s 16ms/step - loss: 0.4128 - accuracy: 0.8343 - val_loss: 0.5133 - val_accuracy: 0.8125\n",
            "Epoch 13/100\n",
            "6/6 [==============================] - 0s 17ms/step - loss: 0.3836 - accuracy: 0.8343 - val_loss: 0.6078 - val_accuracy: 0.7188\n",
            "Epoch 14/100\n",
            "6/6 [==============================] - 0s 15ms/step - loss: 0.3870 - accuracy: 0.8287 - val_loss: 0.5493 - val_accuracy: 0.8125\n",
            "Epoch 15/100\n",
            "6/6 [==============================] - 0s 17ms/step - loss: 0.3277 - accuracy: 0.8785 - val_loss: 0.5177 - val_accuracy: 0.7812\n",
            "Epoch 16/100\n",
            "6/6 [==============================] - 0s 17ms/step - loss: 0.2836 - accuracy: 0.9227 - val_loss: 0.5230 - val_accuracy: 0.8125\n",
            "Epoch 17/100\n",
            "6/6 [==============================] - 0s 16ms/step - loss: 0.2707 - accuracy: 0.9337 - val_loss: 0.5382 - val_accuracy: 0.8125\n",
            "Epoch 18/100\n",
            "6/6 [==============================] - 0s 17ms/step - loss: 0.2694 - accuracy: 0.9171 - val_loss: 0.5079 - val_accuracy: 0.8438\n",
            "Epoch 19/100\n",
            "6/6 [==============================] - 0s 16ms/step - loss: 0.2729 - accuracy: 0.8950 - val_loss: 0.6783 - val_accuracy: 0.7812\n",
            "Epoch 20/100\n",
            "6/6 [==============================] - 0s 17ms/step - loss: 0.2826 - accuracy: 0.8895 - val_loss: 0.5733 - val_accuracy: 0.7812\n",
            "Epoch 21/100\n",
            "6/6 [==============================] - 0s 16ms/step - loss: 0.2409 - accuracy: 0.9227 - val_loss: 0.5704 - val_accuracy: 0.7812\n",
            "Epoch 22/100\n",
            "6/6 [==============================] - 0s 18ms/step - loss: 0.2436 - accuracy: 0.9116 - val_loss: 0.5568 - val_accuracy: 0.8125\n",
            "Epoch 23/100\n",
            "6/6 [==============================] - 0s 16ms/step - loss: 0.1971 - accuracy: 0.9227 - val_loss: 0.5856 - val_accuracy: 0.8125\n",
            "Epoch 24/100\n",
            "6/6 [==============================] - 0s 17ms/step - loss: 0.1815 - accuracy: 0.9448 - val_loss: 0.5899 - val_accuracy: 0.7188\n",
            "Epoch 25/100\n",
            "6/6 [==============================] - 0s 17ms/step - loss: 0.1736 - accuracy: 0.9448 - val_loss: 0.6639 - val_accuracy: 0.8125\n",
            "Epoch 26/100\n",
            "6/6 [==============================] - 0s 16ms/step - loss: 0.1731 - accuracy: 0.9282 - val_loss: 0.5761 - val_accuracy: 0.7500\n",
            "Epoch 27/100\n",
            "6/6 [==============================] - 0s 16ms/step - loss: 0.1692 - accuracy: 0.9392 - val_loss: 0.6636 - val_accuracy: 0.7500\n",
            "Epoch 28/100\n",
            "6/6 [==============================] - 0s 16ms/step - loss: 0.2276 - accuracy: 0.9227 - val_loss: 0.5445 - val_accuracy: 0.8125\n",
            "Epoch 29/100\n",
            "6/6 [==============================] - 0s 16ms/step - loss: 0.1878 - accuracy: 0.9171 - val_loss: 0.7140 - val_accuracy: 0.8438\n",
            "Epoch 30/100\n",
            "6/6 [==============================] - 0s 17ms/step - loss: 0.1523 - accuracy: 0.9669 - val_loss: 0.7025 - val_accuracy: 0.8125\n",
            "Epoch 31/100\n",
            "6/6 [==============================] - 0s 17ms/step - loss: 0.1299 - accuracy: 0.9558 - val_loss: 0.6031 - val_accuracy: 0.8750\n",
            "Epoch 32/100\n",
            "6/6 [==============================] - 0s 15ms/step - loss: 0.1337 - accuracy: 0.9613 - val_loss: 0.6257 - val_accuracy: 0.8438\n",
            "Epoch 33/100\n",
            "6/6 [==============================] - 0s 16ms/step - loss: 0.1747 - accuracy: 0.9227 - val_loss: 0.7481 - val_accuracy: 0.8125\n",
            "Epoch 34/100\n",
            "6/6 [==============================] - 0s 18ms/step - loss: 0.1866 - accuracy: 0.9061 - val_loss: 0.6208 - val_accuracy: 0.7500\n",
            "Epoch 35/100\n",
            "6/6 [==============================] - 0s 17ms/step - loss: 0.2000 - accuracy: 0.9061 - val_loss: 0.6494 - val_accuracy: 0.8438\n",
            "Epoch 36/100\n",
            "6/6 [==============================] - 0s 17ms/step - loss: 0.1269 - accuracy: 0.9613 - val_loss: 0.7241 - val_accuracy: 0.8125\n",
            "Epoch 37/100\n",
            "6/6 [==============================] - 0s 17ms/step - loss: 0.1116 - accuracy: 0.9724 - val_loss: 0.6502 - val_accuracy: 0.8125\n",
            "Epoch 38/100\n",
            "6/6 [==============================] - 0s 18ms/step - loss: 0.0726 - accuracy: 0.9779 - val_loss: 0.7131 - val_accuracy: 0.8125\n",
            "Epoch 39/100\n",
            "6/6 [==============================] - 0s 17ms/step - loss: 0.0571 - accuracy: 0.9945 - val_loss: 0.6911 - val_accuracy: 0.8125\n",
            "Epoch 40/100\n",
            "6/6 [==============================] - 0s 17ms/step - loss: 0.0569 - accuracy: 0.9945 - val_loss: 0.6605 - val_accuracy: 0.8438\n",
            "Epoch 41/100\n",
            "6/6 [==============================] - 0s 17ms/step - loss: 0.0521 - accuracy: 1.0000 - val_loss: 0.7287 - val_accuracy: 0.8125\n",
            "Epoch 42/100\n",
            "6/6 [==============================] - 0s 17ms/step - loss: 0.0483 - accuracy: 1.0000 - val_loss: 0.7087 - val_accuracy: 0.8125\n",
            "Epoch 43/100\n",
            "6/6 [==============================] - 0s 16ms/step - loss: 0.0440 - accuracy: 1.0000 - val_loss: 0.7182 - val_accuracy: 0.8438\n",
            "Epoch 44/100\n",
            "6/6 [==============================] - 0s 19ms/step - loss: 0.0382 - accuracy: 1.0000 - val_loss: 0.7088 - val_accuracy: 0.8125\n",
            "Epoch 45/100\n",
            "6/6 [==============================] - 0s 18ms/step - loss: 0.0336 - accuracy: 1.0000 - val_loss: 0.7878 - val_accuracy: 0.8125\n",
            "Epoch 46/100\n",
            "6/6 [==============================] - 0s 16ms/step - loss: 0.0348 - accuracy: 0.9945 - val_loss: 0.7486 - val_accuracy: 0.7812\n",
            "Epoch 47/100\n",
            "6/6 [==============================] - 0s 17ms/step - loss: 0.0276 - accuracy: 1.0000 - val_loss: 0.7587 - val_accuracy: 0.7812\n",
            "Epoch 48/100\n",
            "6/6 [==============================] - 0s 17ms/step - loss: 0.0269 - accuracy: 1.0000 - val_loss: 0.8185 - val_accuracy: 0.8125\n",
            "Epoch 49/100\n",
            "6/6 [==============================] - 0s 17ms/step - loss: 0.0221 - accuracy: 1.0000 - val_loss: 0.7868 - val_accuracy: 0.8125\n",
            "Epoch 50/100\n",
            "6/6 [==============================] - 0s 17ms/step - loss: 0.0225 - accuracy: 1.0000 - val_loss: 0.7902 - val_accuracy: 0.8438\n",
            "Epoch 51/100\n",
            "6/6 [==============================] - 0s 18ms/step - loss: 0.0231 - accuracy: 1.0000 - val_loss: 0.8263 - val_accuracy: 0.7812\n",
            "Epoch 52/100\n",
            "6/6 [==============================] - 0s 16ms/step - loss: 0.0230 - accuracy: 1.0000 - val_loss: 0.8783 - val_accuracy: 0.8125\n",
            "Epoch 53/100\n",
            "6/6 [==============================] - 0s 18ms/step - loss: 0.0222 - accuracy: 1.0000 - val_loss: 0.8158 - val_accuracy: 0.8438\n",
            "Epoch 54/100\n",
            "6/6 [==============================] - 0s 20ms/step - loss: 0.0189 - accuracy: 1.0000 - val_loss: 0.8463 - val_accuracy: 0.8125\n",
            "Epoch 55/100\n",
            "6/6 [==============================] - 0s 17ms/step - loss: 0.0166 - accuracy: 1.0000 - val_loss: 0.8728 - val_accuracy: 0.8125\n",
            "Epoch 56/100\n",
            "6/6 [==============================] - 0s 17ms/step - loss: 0.0166 - accuracy: 1.0000 - val_loss: 0.8488 - val_accuracy: 0.8125\n",
            "Epoch 57/100\n",
            "6/6 [==============================] - 0s 17ms/step - loss: 0.0163 - accuracy: 1.0000 - val_loss: 0.8552 - val_accuracy: 0.8438\n",
            "Epoch 58/100\n",
            "6/6 [==============================] - 0s 17ms/step - loss: 0.0158 - accuracy: 1.0000 - val_loss: 0.8595 - val_accuracy: 0.8125\n",
            "Epoch 59/100\n",
            "6/6 [==============================] - 0s 20ms/step - loss: 0.0138 - accuracy: 1.0000 - val_loss: 0.9042 - val_accuracy: 0.8125\n",
            "Epoch 60/100\n",
            "6/6 [==============================] - 0s 17ms/step - loss: 0.0107 - accuracy: 1.0000 - val_loss: 0.8603 - val_accuracy: 0.8438\n",
            "Epoch 61/100\n",
            "6/6 [==============================] - 0s 17ms/step - loss: 0.0106 - accuracy: 1.0000 - val_loss: 0.9211 - val_accuracy: 0.8125\n",
            "Epoch 62/100\n",
            "6/6 [==============================] - 0s 17ms/step - loss: 0.0092 - accuracy: 1.0000 - val_loss: 0.8877 - val_accuracy: 0.8438\n",
            "Epoch 63/100\n",
            "6/6 [==============================] - 0s 18ms/step - loss: 0.0104 - accuracy: 1.0000 - val_loss: 1.0017 - val_accuracy: 0.8125\n",
            "Epoch 64/100\n",
            "6/6 [==============================] - 0s 18ms/step - loss: 0.0155 - accuracy: 1.0000 - val_loss: 0.9090 - val_accuracy: 0.8438\n",
            "Epoch 65/100\n",
            "6/6 [==============================] - 0s 17ms/step - loss: 0.0119 - accuracy: 1.0000 - val_loss: 0.9255 - val_accuracy: 0.8438\n",
            "Epoch 66/100\n",
            "6/6 [==============================] - 0s 17ms/step - loss: 0.0134 - accuracy: 1.0000 - val_loss: 1.0847 - val_accuracy: 0.8125\n",
            "Epoch 67/100\n",
            "6/6 [==============================] - 0s 18ms/step - loss: 0.0255 - accuracy: 0.9945 - val_loss: 0.9556 - val_accuracy: 0.8125\n",
            "Epoch 68/100\n",
            "6/6 [==============================] - 0s 17ms/step - loss: 0.0155 - accuracy: 0.9945 - val_loss: 0.9103 - val_accuracy: 0.7812\n",
            "Epoch 69/100\n",
            "6/6 [==============================] - 0s 17ms/step - loss: 0.0120 - accuracy: 1.0000 - val_loss: 1.0559 - val_accuracy: 0.8125\n",
            "Epoch 70/100\n",
            "6/6 [==============================] - 0s 17ms/step - loss: 0.0095 - accuracy: 1.0000 - val_loss: 0.9524 - val_accuracy: 0.8438\n",
            "Epoch 71/100\n",
            "6/6 [==============================] - 0s 17ms/step - loss: 0.0070 - accuracy: 1.0000 - val_loss: 0.9853 - val_accuracy: 0.8125\n",
            "Epoch 72/100\n",
            "6/6 [==============================] - 0s 17ms/step - loss: 0.0052 - accuracy: 1.0000 - val_loss: 0.9411 - val_accuracy: 0.8125\n",
            "Epoch 73/100\n",
            "6/6 [==============================] - 0s 19ms/step - loss: 0.0050 - accuracy: 1.0000 - val_loss: 0.9747 - val_accuracy: 0.8125\n",
            "Epoch 74/100\n",
            "6/6 [==============================] - 0s 17ms/step - loss: 0.0041 - accuracy: 1.0000 - val_loss: 0.9708 - val_accuracy: 0.8125\n",
            "Epoch 75/100\n",
            "6/6 [==============================] - 0s 17ms/step - loss: 0.0044 - accuracy: 1.0000 - val_loss: 1.0026 - val_accuracy: 0.8125\n",
            "Epoch 76/100\n",
            "6/6 [==============================] - 0s 18ms/step - loss: 0.0045 - accuracy: 1.0000 - val_loss: 0.9721 - val_accuracy: 0.8125\n",
            "Epoch 77/100\n",
            "6/6 [==============================] - 0s 18ms/step - loss: 0.0039 - accuracy: 1.0000 - val_loss: 0.9835 - val_accuracy: 0.8125\n",
            "Epoch 78/100\n",
            "6/6 [==============================] - 0s 17ms/step - loss: 0.0035 - accuracy: 1.0000 - val_loss: 1.0126 - val_accuracy: 0.8125\n",
            "Epoch 79/100\n",
            "6/6 [==============================] - 0s 16ms/step - loss: 0.0034 - accuracy: 1.0000 - val_loss: 1.0214 - val_accuracy: 0.8125\n",
            "Epoch 80/100\n",
            "6/6 [==============================] - 0s 18ms/step - loss: 0.0033 - accuracy: 1.0000 - val_loss: 1.0022 - val_accuracy: 0.8125\n",
            "Epoch 81/100\n",
            "6/6 [==============================] - 0s 16ms/step - loss: 0.0032 - accuracy: 1.0000 - val_loss: 1.0096 - val_accuracy: 0.8125\n",
            "Epoch 82/100\n",
            "6/6 [==============================] - 0s 19ms/step - loss: 0.0030 - accuracy: 1.0000 - val_loss: 1.0189 - val_accuracy: 0.8125\n",
            "Epoch 83/100\n",
            "6/6 [==============================] - 0s 19ms/step - loss: 0.0029 - accuracy: 1.0000 - val_loss: 1.0279 - val_accuracy: 0.8125\n",
            "Epoch 84/100\n",
            "6/6 [==============================] - 0s 18ms/step - loss: 0.0029 - accuracy: 1.0000 - val_loss: 1.0317 - val_accuracy: 0.8125\n",
            "Epoch 85/100\n",
            "6/6 [==============================] - 0s 19ms/step - loss: 0.0028 - accuracy: 1.0000 - val_loss: 1.0480 - val_accuracy: 0.8125\n",
            "Epoch 86/100\n",
            "6/6 [==============================] - 0s 18ms/step - loss: 0.0027 - accuracy: 1.0000 - val_loss: 1.0362 - val_accuracy: 0.8125\n",
            "Epoch 87/100\n",
            "6/6 [==============================] - 0s 17ms/step - loss: 0.0027 - accuracy: 1.0000 - val_loss: 1.0492 - val_accuracy: 0.8125\n",
            "Epoch 88/100\n",
            "6/6 [==============================] - 0s 17ms/step - loss: 0.0027 - accuracy: 1.0000 - val_loss: 1.0532 - val_accuracy: 0.8125\n",
            "Epoch 89/100\n",
            "6/6 [==============================] - 0s 19ms/step - loss: 0.0026 - accuracy: 1.0000 - val_loss: 1.0662 - val_accuracy: 0.8125\n",
            "Epoch 90/100\n",
            "6/6 [==============================] - 0s 19ms/step - loss: 0.0024 - accuracy: 1.0000 - val_loss: 1.0606 - val_accuracy: 0.8125\n",
            "Epoch 91/100\n",
            "6/6 [==============================] - 0s 18ms/step - loss: 0.0024 - accuracy: 1.0000 - val_loss: 1.0678 - val_accuracy: 0.8125\n",
            "Epoch 92/100\n",
            "6/6 [==============================] - 0s 20ms/step - loss: 0.0023 - accuracy: 1.0000 - val_loss: 1.0723 - val_accuracy: 0.8125\n",
            "Epoch 93/100\n",
            "6/6 [==============================] - 0s 18ms/step - loss: 0.0022 - accuracy: 1.0000 - val_loss: 1.0817 - val_accuracy: 0.8125\n",
            "Epoch 94/100\n",
            "6/6 [==============================] - 0s 17ms/step - loss: 0.0023 - accuracy: 1.0000 - val_loss: 1.0764 - val_accuracy: 0.8125\n",
            "Epoch 95/100\n",
            "6/6 [==============================] - 0s 18ms/step - loss: 0.0021 - accuracy: 1.0000 - val_loss: 1.1013 - val_accuracy: 0.8125\n",
            "Epoch 96/100\n",
            "6/6 [==============================] - 0s 17ms/step - loss: 0.0021 - accuracy: 1.0000 - val_loss: 1.0930 - val_accuracy: 0.8125\n",
            "Epoch 97/100\n",
            "6/6 [==============================] - 0s 18ms/step - loss: 0.0022 - accuracy: 1.0000 - val_loss: 1.0952 - val_accuracy: 0.8125\n",
            "Epoch 98/100\n",
            "6/6 [==============================] - 0s 19ms/step - loss: 0.0020 - accuracy: 1.0000 - val_loss: 1.1321 - val_accuracy: 0.8125\n",
            "Epoch 99/100\n",
            "6/6 [==============================] - 0s 18ms/step - loss: 0.0022 - accuracy: 1.0000 - val_loss: 1.0926 - val_accuracy: 0.8125\n",
            "Epoch 100/100\n",
            "6/6 [==============================] - 0s 17ms/step - loss: 0.0019 - accuracy: 1.0000 - val_loss: 1.1108 - val_accuracy: 0.8125\n"
          ]
        }
      ]
    },
    {
      "cell_type": "code",
      "source": [
        "import matplotlib.pyplot as plt\n",
        "\n",
        "print(H.history.keys())\n",
        "# summarize history for accuracy\n",
        "plt.plot(H.history['accuracy'])\n",
        "plt.plot(H.history['val_accuracy'])\n",
        "plt.title('model accuracy')\n",
        "plt.ylabel('accuracy')\n",
        "plt.xlabel('epoch')\n",
        "plt.legend(['train', 'test'], loc='upper left')\n",
        "plt.show()\n",
        "# summarize history for loss\n",
        "plt.plot(H.history['loss'])\n",
        "plt.plot(H.history['val_loss'])\n",
        "plt.title('model loss')\n",
        "plt.ylabel('loss')\n",
        "plt.xlabel('epoch')\n",
        "plt.legend(['train', 'test'], loc='upper left')\n",
        "plt.show()"
      ],
      "metadata": {
        "colab": {
          "base_uri": "https://localhost:8080/",
          "height": 591
        },
        "id": "HTgWaVPqzFP1",
        "outputId": "d6704cab-8034-4cc4-b5b9-c328e2f06bc7"
      },
      "execution_count": null,
      "outputs": [
        {
          "output_type": "stream",
          "name": "stdout",
          "text": [
            "dict_keys(['loss', 'accuracy', 'val_loss', 'val_accuracy'])\n"
          ]
        },
        {
          "output_type": "display_data",
          "data": {
            "image/png": "[encoded data removed]",
            "text/plain": [
              "<Figure size 432x288 with 1 Axes>"
            ]
          },
          "metadata": {
            "needs_background": "light"
          }
        },
        {
          "output_type": "display_data",
          "data": {
            "image/png": "[encoded data removed]",
            "text/plain": [
              "<Figure size 432x288 with 1 Axes>"
            ]
          },
          "metadata": {
            "needs_background": "light"
          }
        }
      ]
    },
    {
      "cell_type": "code",
      "source": [
        "# evaluate the network\n",
        "print(\"[INFO] evaluating network...\")\n",
        "predictions = model.predict(testX, batch_size=32)\n",
        "print(classification_report(testY.argmax(axis=1),predictions.argmax(axis=1), target_names=lb.classes_))"
      ],
      "metadata": {
        "colab": {
          "base_uri": "https://localhost:8080/"
        },
        "id": "GdtURXqfz5CU",
        "outputId": "7bb5582e-a22c-4ebd-8bb1-0358802b8ea8"
      },
      "execution_count": null,
      "outputs": [
        {
          "output_type": "stream",
          "name": "stdout",
          "text": [
            "[INFO] evaluating network...\n",
            "              precision    recall  f1-score   support\n",
            "\n",
            "     Imature       0.86      1.00      0.92        12\n",
            "      Mature       0.60      0.43      0.50         7\n",
            "  OverMature       0.85      0.85      0.85        13\n",
            "\n",
            "    accuracy                           0.81        32\n",
            "   macro avg       0.77      0.76      0.76        32\n",
            "weighted avg       0.80      0.81      0.80        32\n",
            "\n"
          ]
        }
      ]
    },
    {
      "cell_type": "code",
      "source": [
        "import cv2\n",
        "import matplotlib.pyplot as plt\n",
        "\n",
        "gambar = 'Salinan S5.jpg'\n",
        "image = cv2.imread(gambar)\n",
        "plt.imshow(image)\n",
        "plt.show()"
      ],
      "metadata": {
        "colab": {
          "base_uri": "https://localhost:8080/",
          "height": 268
        },
        "id": "_9fzW9gMvCjh",
        "outputId": "e4e90411-94e1-4010-fb32-eb46b8d89ad5"
      },
      "execution_count": null,
      "outputs": [
        {
          "output_type": "display_data",
          "data": {
            "image/png": "[encoded data removed]",
            "text/plain": [
              "<Figure size 432x288 with 1 Axes>"
            ]
          },
          "metadata": {
            "needs_background": "light"
          }
        }
      ]
    },
    {
      "cell_type": "code",
      "source": [
        "image_test=Image.open(gambar)\n",
        "image_test=np.array(image_test.resize((64,64))) / 255.0\n",
        "image_test.shape"
      ],
      "metadata": {
        "colab": {
          "base_uri": "https://localhost:8080/"
        },
        "id": "E03lXFMcvGEo",
        "outputId": "0db213a2-ceaa-45bd-a74b-38a828ebba58"
      },
      "execution_count": null,
      "outputs": [
        {
          "output_type": "execute_result",
          "data": {
            "text/plain": [
              "(64, 64, 3)"
            ]
          },
          "metadata": {},
          "execution_count": 106
        }
      ]
    },
    {
      "cell_type": "code",
      "source": [
        "image_test=np.expand_dims(image_test, axis=0)\n",
        "image_test.shape"
      ],
      "metadata": {
        "colab": {
          "base_uri": "https://localhost:8080/"
        },
        "id": "3paJaqE0vNhw",
        "outputId": "22712844-d292-4b34-e935-dc0d09c26b36"
      },
      "execution_count": null,
      "outputs": [
        {
          "output_type": "execute_result",
          "data": {
            "text/plain": [
              "(1, 64, 64, 3)"
            ]
          },
          "metadata": {},
          "execution_count": 107
        }
      ]
    },
    {
      "cell_type": "code",
      "source": [
        "image_test = image_test.reshape(1 ,3*64*64)"
      ],
      "metadata": {
        "id": "VxljXQV6FUDD"
      },
      "execution_count": null,
      "outputs": []
    },
    {
      "cell_type": "code",
      "source": [
        "predict = model.predict(image_test)\n",
        "print(predict)"
      ],
      "metadata": {
        "id": "OAtpNS9Vvfi8",
        "colab": {
          "base_uri": "https://localhost:8080/"
        },
        "outputId": "4cf53ff2-7272-4eac-a754-7aa6b44593bd"
      },
      "execution_count": null,
      "outputs": [
        {
          "output_type": "stream",
          "name": "stdout",
          "text": [
            "[[7.9784343e-07 9.0738946e-01 9.2609741e-02]]\n"
          ]
        }
      ]
    },
    {
      "cell_type": "code",
      "source": [
        "print(lb.classes_[predict.argmax(axis=1)])"
      ],
      "metadata": {
        "colab": {
          "base_uri": "https://localhost:8080/"
        },
        "id": "x9TD7oOvv8rm",
        "outputId": "f435f3ee-9d8a-41a1-d6f2-657f489ac096"
      },
      "execution_count": null,
      "outputs": [
        {
          "output_type": "stream",
          "name": "stdout",
          "text": [
            "['Mature']\n"
          ]
        }
      ]
    }
  ]
}