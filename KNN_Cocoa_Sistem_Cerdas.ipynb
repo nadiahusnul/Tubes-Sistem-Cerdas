{
  "cells": [
    {
      "cell_type": "code",
      "execution_count": null,
      "metadata": {
        "colab": {
          "base_uri": "https://localhost:8080/"
        },
        "id": "IYX8jfvLakd8",
        "outputId": "8b985fc5-11cd-4099-ed13-d95dee577156"
      },
      "outputs": [
        {
          "output_type": "stream",
          "name": "stdout",
          "text": [
            "Drive already mounted at /content/drive; to attempt to forcibly remount, call drive.mount(\"/content/drive\", force_remount=True).\n"
          ]
        }
      ],
      "source": [
        "from google.colab import drive\n",
        "drive.mount('/content/drive')"
      ]
    },
    {
      "cell_type": "code",
      "execution_count": null,
      "metadata": {
        "colab": {
          "base_uri": "https://localhost:8080/"
        },
        "id": "8umsyVFVgtIC",
        "outputId": "458d7f51-326f-4754-e3cc-7a7fdecf52f9"
      },
      "outputs": [
        {
          "output_type": "stream",
          "name": "stdout",
          "text": [
            "/content/drive/My Drive/Colab Notebooks\n"
          ]
        }
      ],
      "source": [
        "cd /content/drive/My Drive/Colab Notebooks"
      ]
    },
    {
      "cell_type": "code",
      "execution_count": null,
      "metadata": {
        "id": "WjLuSpvOhI_F"
      },
      "outputs": [],
      "source": [
        "%matplotlib notebook\n",
        "import numpy as np\n",
        "import matplotlib.pyplot as plt\n",
        "import pandas as pd\n",
        "from sklearn.model_selection import train_test_split\n",
        "from sklearn.neighbors import KNeighborsClassifier\n",
        "from sklearn import neighbors\n",
        "from matplotlib.colors import ListedColormap, BoundaryNorm\n",
        "import matplotlib.patches as mpatches\n",
        "from PIL import Image\n",
        "from imutils import paths\n",
        "import os"
      ]
    },
    {
      "cell_type": "code",
      "execution_count": null,
      "metadata": {
        "colab": {
          "base_uri": "https://localhost:8080/"
        },
        "id": "aPj_7fAThPbU",
        "outputId": "82848b97-5809-4684-b230-db824cf8f387"
      },
      "outputs": [
        {
          "output_type": "stream",
          "name": "stdout",
          "text": [
            "[INFO] loading images...\n"
          ]
        }
      ],
      "source": [
        "# grab all image paths in the input dataset directory, then initialize\n",
        "# our list of images and corresponding class labels\n",
        "print(\"[INFO] loading images...\")\n",
        "imagePaths = paths.list_images(\"Data Cocoa Ripe\")\n",
        "data = []\n",
        "labels = []"
      ]
    },
    {
      "cell_type": "code",
      "execution_count": null,
      "metadata": {
        "id": "W3g45uRohkPd"
      },
      "outputs": [],
      "source": [
        "# loop over our input images\n",
        "for imagePath in imagePaths:\n",
        "\t# load the input image from disk, resize it to 64x64 pixels, scale\n",
        "\t# the pixel intensities to the range [0, 1], and then update our\n",
        "\t# images list\n",
        "\timage = Image.open(imagePath)\n",
        "\timage = np.array(image.resize((64,64))) / 255.0\n",
        "\tdata.append(image)\n",
        "\n",
        "\t# extract the class label from the file path and update the\n",
        "\t# labels list\n",
        "\tlabel = imagePath.split(os.path.sep)[-2]\n",
        "\tlabels.append(label)"
      ]
    },
    {
      "cell_type": "code",
      "execution_count": null,
      "metadata": {
        "colab": {
          "base_uri": "https://localhost:8080/"
        },
        "id": "fJ9m0yCNiYR2",
        "outputId": "31bea1ea-a6cc-4e29-ee73-a2c53b3e02eb"
      },
      "outputs": [
        {
          "output_type": "stream",
          "name": "stdout",
          "text": [
            "['Mature', 'Mature', 'Mature', 'Mature', 'Mature', 'Mature', 'Mature', 'Mature', 'Mature', 'Mature', 'Mature', 'Mature', 'Mature', 'Mature', 'Mature', 'Mature', 'Mature', 'Mature', 'Mature', 'Mature', 'Mature', 'Mature', 'Mature', 'Mature', 'Mature', 'Mature', 'Mature', 'Mature', 'Mature', 'Mature', 'Mature', 'Mature', 'Mature', 'Mature', 'Mature', 'Mature', 'Mature', 'Mature', 'Mature', 'Mature', 'Mature', 'Mature', 'Mature', 'Mature', 'Mature', 'Mature', 'Mature', 'Mature', 'Mature', 'Mature', 'Mature', 'Mature', 'Mature', 'Mature', 'Mature', 'Mature', 'Mature', 'Mature', 'Mature', 'Mature', 'Mature', 'Mature', 'Mature', 'Mature', 'Mature', 'Mature', 'Mature', 'Mature', 'Mature', 'Mature', 'Mature', 'Imature', 'Imature', 'Imature', 'Imature', 'Imature', 'Imature', 'Imature', 'Imature', 'Imature', 'Imature', 'Imature', 'Imature', 'Imature', 'Imature', 'Imature', 'Imature', 'Imature', 'Imature', 'Imature', 'Imature', 'Imature', 'Imature', 'Imature', 'Imature', 'Imature', 'Imature', 'Imature', 'Imature', 'Imature', 'Imature', 'Imature', 'Imature', 'Imature', 'Imature', 'Imature', 'Imature', 'Imature', 'Imature', 'Imature', 'Imature', 'Imature', 'Imature', 'Imature', 'Imature', 'Imature', 'Imature', 'Imature', 'Imature', 'Imature', 'Imature', 'Imature', 'Imature', 'Imature', 'Imature', 'Imature', 'Imature', 'Imature', 'Imature', 'Imature', 'Imature', 'Imature', 'Imature', 'Imature', 'Imature', 'Imature', 'Imature', 'Imature', 'Imature', 'Imature', 'Imature', 'Imature', 'OverMature', 'OverMature', 'OverMature', 'OverMature', 'OverMature', 'OverMature', 'OverMature', 'OverMature', 'OverMature', 'OverMature', 'OverMature', 'OverMature', 'OverMature', 'OverMature', 'OverMature', 'OverMature', 'OverMature', 'OverMature', 'OverMature', 'OverMature', 'OverMature', 'OverMature', 'OverMature', 'OverMature', 'OverMature', 'OverMature', 'OverMature', 'OverMature', 'OverMature', 'OverMature', 'OverMature', 'OverMature', 'OverMature', 'OverMature', 'OverMature', 'OverMature', 'OverMature', 'OverMature', 'OverMature', 'OverMature', 'OverMature', 'OverMature', 'OverMature', 'OverMature', 'OverMature', 'OverMature', 'OverMature', 'OverMature', 'OverMature', 'OverMature', 'OverMature', 'OverMature', 'OverMature', 'OverMature', 'OverMature', 'OverMature', 'OverMature', 'OverMature', 'OverMature', 'OverMature', 'OverMature', 'OverMature', 'OverMature', 'OverMature', 'OverMature', 'OverMature', 'OverMature', 'OverMature', 'OverMature', 'OverMature', 'OverMature']\n"
          ]
        }
      ],
      "source": [
        "print(labels)"
      ]
    },
    {
      "cell_type": "code",
      "execution_count": null,
      "metadata": {
        "colab": {
          "base_uri": "https://localhost:8080/"
        },
        "id": "IqFiXD01iqQs",
        "outputId": "d2642e61-10ab-4dde-d190-f12c8a1681a9"
      },
      "outputs": [
        {
          "output_type": "stream",
          "name": "stdout",
          "text": [
            "(181, 64, 64, 3)\n",
            "(32, 64, 64, 3)\n",
            "(181,)\n",
            "(32,)\n"
          ]
        }
      ],
      "source": [
        "# perform a training and testing split, using 75% of the data for\n",
        "# training and 25% for evaluation\n",
        "(trainX, testX, trainY, testY) = train_test_split(np.array(data),\tnp.array(labels), test_size=0.15)\n",
        "print(trainX.shape)\n",
        "print(testX.shape)\n",
        "print(trainY.shape)\n",
        "print(testY.shape)"
      ]
    },
    {
      "cell_type": "code",
      "execution_count": null,
      "metadata": {
        "id": "GSCFiHM_u_M1"
      },
      "outputs": [],
      "source": [
        "trainX = trainX.reshape(181,3*64*64)\n",
        "testX = testX.reshape(32,3*64*64)"
      ]
    },
    {
      "cell_type": "code",
      "execution_count": null,
      "metadata": {
        "colab": {
          "base_uri": "https://localhost:8080/"
        },
        "id": "YSInIxlDvenB",
        "outputId": "88126293-0ddc-46a9-c6ac-df1d49ff7f11"
      },
      "outputs": [
        {
          "output_type": "execute_result",
          "data": {
            "text/plain": [
              "KNeighborsClassifier()"
            ]
          },
          "metadata": {},
          "execution_count": 35
        }
      ],
      "source": [
        "# Create classifier objet\n",
        "knn = KNeighborsClassifier(n_neighbors = 5)\n",
        "\n",
        "# Train the classifier using train data\n",
        "knn.fit(trainX, trainY)"
      ]
    },
    {
      "cell_type": "code",
      "execution_count": null,
      "metadata": {
        "colab": {
          "base_uri": "https://localhost:8080/"
        },
        "id": "OKj5LB0Xv5iN",
        "outputId": "e8fa3eb8-8a60-4b0a-9423-fbf651219e0b"
      },
      "outputs": [
        {
          "output_type": "stream",
          "name": "stdout",
          "text": [
            "[INFO] evaluating...\n",
            "['OverMature' 'OverMature' 'Imature' 'Imature' 'Mature' 'Mature'\n",
            " 'OverMature' 'OverMature' 'OverMature' 'OverMature' 'OverMature'\n",
            " 'OverMature' 'OverMature' 'OverMature' 'Imature' 'Mature' 'OverMature'\n",
            " 'OverMature' 'Mature' 'Mature' 'Imature' 'Imature' 'Mature' 'OverMature'\n",
            " 'Mature' 'OverMature' 'Mature' 'Imature' 'OverMature' 'Imature' 'Mature'\n",
            " 'OverMature']\n"
          ]
        }
      ],
      "source": [
        "# make predictions on our data and show a classification report\n",
        "print(\"[INFO] evaluating...\")\n",
        "predictions = knn.predict(testX)\n",
        "print(predictions)"
      ]
    },
    {
      "cell_type": "code",
      "execution_count": null,
      "metadata": {
        "id": "ZjUUc5TbLgxa"
      },
      "outputs": [],
      "source": [
        "from sklearn.metrics import classification_report, confusion_matrix"
      ]
    },
    {
      "cell_type": "code",
      "execution_count": null,
      "metadata": {
        "colab": {
          "base_uri": "https://localhost:8080/"
        },
        "id": "JoqFW5ojMGys",
        "outputId": "4e3b3673-66c5-448c-bf32-80431267ee11"
      },
      "outputs": [
        {
          "output_type": "stream",
          "name": "stdout",
          "text": [
            "[[ 6  3  0]\n",
            " [ 1  4  3]\n",
            " [ 0  2 13]]\n"
          ]
        }
      ],
      "source": [
        "print(confusion_matrix(testY, predictions))"
      ]
    },
    {
      "cell_type": "code",
      "execution_count": null,
      "metadata": {
        "colab": {
          "base_uri": "https://localhost:8080/"
        },
        "id": "O-gREEF9MSLm",
        "outputId": "613da092-44f2-4582-db78-9af16da3f3f0"
      },
      "outputs": [
        {
          "output_type": "stream",
          "name": "stdout",
          "text": [
            "              precision    recall  f1-score   support\n",
            "\n",
            "     Imature       0.86      0.67      0.75         9\n",
            "      Mature       0.44      0.50      0.47         8\n",
            "  OverMature       0.81      0.87      0.84        15\n",
            "\n",
            "    accuracy                           0.72        32\n",
            "   macro avg       0.70      0.68      0.69        32\n",
            "weighted avg       0.73      0.72      0.72        32\n",
            "\n"
          ]
        }
      ],
      "source": [
        "print(classification_report(testY, predictions))"
      ]
    },
    {
      "cell_type": "code",
      "source": [
        "import cv2\n",
        "import matplotlib.pyplot as plt\n",
        "\n",
        "gambar = 'Salinan S5.jpg'\n",
        "image = cv2.imread(gambar)\n",
        "plt.imshow(image)\n",
        "plt.show()"
      ],
      "metadata": {
        "id": "jVAp6d_nihUc"
      },
      "execution_count": null,
      "outputs": []
    },
    {
      "cell_type": "code",
      "source": [
        "image_test=Image.open(gambar)\n",
        "image_test=np.array(image_test.resize((64,64))) / 255.0\n",
        "image_test.shape"
      ],
      "metadata": {
        "colab": {
          "base_uri": "https://localhost:8080/",
          "height": 35
        },
        "id": "UI80czONlH6O",
        "outputId": "f57c705e-a377-4166-c68a-1f94a7cbda8a"
      },
      "execution_count": null,
      "outputs": [
        {
          "output_type": "execute_result",
          "data": {
            "text/plain": [
              "(64, 64, 3)"
            ]
          },
          "metadata": {},
          "execution_count": 125
        }
      ]
    },
    {
      "cell_type": "code",
      "source": [
        "image_test=np.expand_dims(image_test, axis=0)\n",
        "image_test.shape"
      ],
      "metadata": {
        "colab": {
          "base_uri": "https://localhost:8080/",
          "height": 35
        },
        "id": "dZkN2bI9lLcO",
        "outputId": "d3fe4829-5150-4ecf-d89c-11a9718b09a9"
      },
      "execution_count": null,
      "outputs": [
        {
          "output_type": "execute_result",
          "data": {
            "text/plain": [
              "(1, 64, 64, 3)"
            ]
          },
          "metadata": {},
          "execution_count": 126
        }
      ]
    },
    {
      "cell_type": "code",
      "source": [
        "image_test = image_test.reshape(1 ,3*64*64)"
      ],
      "metadata": {
        "id": "Mp2I3HgwSyqi"
      },
      "execution_count": null,
      "outputs": []
    },
    {
      "cell_type": "code",
      "source": [
        "predict = knn.predict(image_test)"
      ],
      "metadata": {
        "id": "uBGfXzr8lO19"
      },
      "execution_count": null,
      "outputs": []
    },
    {
      "cell_type": "code",
      "source": [
        "print(predict)"
      ],
      "metadata": {
        "colab": {
          "base_uri": "https://localhost:8080/",
          "height": 35
        },
        "id": "gEUMK718S5Y8",
        "outputId": "b588ff61-951b-44d2-dea8-052cef22c700"
      },
      "execution_count": null,
      "outputs": [
        {
          "output_type": "stream",
          "name": "stdout",
          "text": [
            "['Mature']\n"
          ]
        }
      ]
    },
    {
      "cell_type": "code",
      "execution_count": null,
      "metadata": {
        "colab": {
          "base_uri": "https://localhost:8080/"
        },
        "id": "KUFcjkuriofm",
        "outputId": "95301013-0848-4cc3-b421-c3da27454059"
      },
      "outputs": [
        {
          "output_type": "execute_result",
          "data": {
            "text/plain": [
              "{'n_neighbors': 6}"
            ]
          },
          "metadata": {},
          "execution_count": 15
        }
      ],
      "source": [
        "from sklearn.metrics import accuracy_score\n",
        "from sklearn.model_selection import GridSearchCV\n",
        "\n",
        "param_grid = {'n_neighbors': np.arange(1,10)}\n",
        "\n",
        "knn_clf = GridSearchCV(KNeighborsClassifier(), param_grid, cv = 3, scoring='accuracy')\n",
        "\n",
        "knn_clf.fit(trainX, trainY)\n",
        "knn_clf.best_params_"
      ]
    },
    {
      "cell_type": "code",
      "execution_count": null,
      "metadata": {
        "colab": {
          "base_uri": "https://localhost:8080/"
        },
        "id": "pxz7Ipc4jzjD",
        "outputId": "9f7d7dd3-c6ff-4035-a3c8-c4ffb588588b"
      },
      "outputs": [
        {
          "output_type": "execute_result",
          "data": {
            "text/plain": [
              "0.815"
            ]
          },
          "metadata": {},
          "execution_count": 16
        }
      ],
      "source": [
        "knn_clf = KNeighborsClassifier(n_neighbors=5)\n",
        "knn_clf.fit(trainX, trainY)\n",
        "\n",
        "pred_clf = knn_clf.predict(testX)\n",
        "\n",
        "round(accuracy_score(testY, pred_clf),3)"
      ]
    }
  ],
  "metadata": {
    "colab": {
      "name": "KNN Cocoa-Sistem Cerdas.ipynb",
      "provenance": []
    },
    "kernelspec": {
      "display_name": "Python 3",
      "name": "python3"
    },
    "language_info": {
      "name": "python"
    }
  },
  "nbformat": 4,
  "nbformat_minor": 0
}